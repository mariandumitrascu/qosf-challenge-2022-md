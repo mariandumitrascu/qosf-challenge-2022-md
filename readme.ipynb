{
 "cells": [
  {
   "cell_type": "markdown",
   "metadata": {},
   "source": [
    "# QOSF Mentorship Program - 2022 Challenge - Marian Dumitrascu\n",
    "\n",
    "## Task 3 - Encoding and Classifier\n",
    "\n",
    "You can find task definition [here](https://github.com/mariandumitrascu/qosf-challenge-2022-md/blob/main/Cohort%205%20Screening%20Tasks.pdf)\n",
    "\n",
    "## Approach and Solution\n",
    "\n",
    "\n",
    "To approach this task I used PennyLane framework, and 7 types of encoding, making use of all out of the box PennyLane embedding functions (with the exception of basis encoding) as well as one angle encoding from scratch. I wanted to use this opportunity to go through all options available at this time regarding Variational Circuits Classifiers, and PennyLane framework provides this.\n",
    "\n",
    "<br><br>\n",
    "You can see the data profile in: [./task-02/md-task-02-data-profile.ipynb](./task-02/md-task-02-data-profile.ipynb). It also saved in ./task-02/data_profile.html, but it will not show in GitHub. You can see it if you clone the project and load it loclly.\n",
    "\n",
    "<br>\n",
    "<br>\n",
    "As you can see, second and third column would be expressed better as powers of 10. <br>\n",
    "Also there are some corelations between column 1 and 2 and between 1 and 4, but I will not compress the number of features for now.<br>\n",
    "<br>\n",
    "It is remarkable that we can use column 1 and 2 alone for a base encodding on 5 or 6 qubits, but I am running out of time.<br>\n",
    "\n",
    "\n"
   ]
  },
  {
   "cell_type": "markdown",
   "metadata": {},
   "source": [
    "***\n",
    "<!-- ### [Angle Encoding - 2 qubits - Custom Circuit](https://github.com/mariandumitrascu/qosf-challenge-2022-md/blob/main/task-02/md-task-02-angle-encoding-2-qubits.ipynb) -->\n",
    "### Angle Encoding - 2 qubits - Custom Circuit\n",
    "\n",
    "__Notebook__: [md-task-02-angle-encoding-2-qubits.ipynb](https://github.com/mariandumitrascu/qosf-challenge-2022-md/blob/main/task-02/md-task-02-angle-encoding-2-qubits.ipynb)\n",
    "<br>\n",
    "<br>\n",
    "Circuit coding for angle encoding follows [pennylane technique](https://pennylane.ai/qml/demos/tutorial_variational_classifier.html), whch is also following the scheme in in [Schuld and Petruccione (2018)](https://link.springer.com/book/10.1007/978-3-319-96424-9). Controlled Y rotations are also decomposed using [Nielsen and Chuang (2010)](http://www.michaelnielsen.org/qcqi/)\n",
    "\n",
    "<br>\n",
    "<br>\n",
    "\n",
    "References:\n",
    "<br>\n",
    "[Pennylane](https://pennylane.ai/qml/demos/tutorial_variational_classifier.html)<br>\n",
    "[Schuld and Petruccione (2018)](https://link.springer.com/book/10.1007/978-3-319-96424-9)\n"
   ]
  },
  {
   "cell_type": "markdown",
   "metadata": {},
   "source": [
    "***\n",
    "### Angle Encoding - 4 qubits - using qml.AngleEmbedding\n",
    "__Notebook__: [md-task-02-angle-encoding-4-qubits.ipynb](https://github.com/mariandumitrascu/qosf-challenge-2022-md/blob/main/task-02/md-task-02-angle-encoding-4-qubits.ipynb)\n",
    "<br>\n",
    "<br>\n",
    "<br>\n",
    "References:\n",
    "<br>\n",
    "[qml.AngleEmbedding](https://pennylane.readthedocs.io/en/stable/code/api/pennylane.AngleEmbedding.html)\n"
   ]
  },
  {
   "cell_type": "markdown",
   "metadata": {},
   "source": [
    "***\n",
    "### Amplitude Encoding - 2 qubits - using qml.AmplitudeEmbedding\n",
    "\n",
    "__Notebook__: [md-task-02-amplitude-encoding-2-qubits.ipynb](https://github.com/mariandumitrascu/qosf-challenge-2022-md/blob/main/task-02/md-task-02-amplitude-encoding-2-qubits.ipynb)\n",
    "<br>\n",
    "<br>\n",
    "<br>\n",
    "References:\n",
    "<br>\n",
    "[qml.AmplitudeEmbedding](https://pennylane.readthedocs.io/en/stable/code/api/pennylane.AmplitudeEmbedding.html)"
   ]
  },
  {
   "cell_type": "markdown",
   "metadata": {},
   "source": [
    "***\n",
    "<!-- ### [IQP Encoding - 4 qubits - using qml.IQPEmbedding](https://github.com/mariandumitrascu/qosf-challenge-2022-md/blob/main/task-02/md-task-02-iqp-encoding-4-qubits.ipynb) -->\n",
    "### IQP Encoding - 4 qubits - using qml.IQPEmbedding\n",
    "\n",
    "__Notebook__: [md-task-02-iqp-encoding-4-qubits.ipynb](https://github.com/mariandumitrascu/qosf-challenge-2022-md/blob/main/task-02/md-task-02-iqp-encoding-4-qubits.ipynb)\n",
    "<br>\n",
    "<br>\n",
    "Encodes n features into n qubits using diagonal gates of an IQP circuit.\n",
    "<br>\n",
    "This embedding has been proposed by [Havlicek et al. (2018)](https://arxiv.org/pdf/1804.11326.pdf).\n",
    "<br><br>\n",
    "References:\n",
    "<br>\n",
    "[qml.IQPEmbedding](https://pennylane.readthedocs.io/en/stable/code/api/pennylane.IQPEmbedding.html)\n"
   ]
  },
  {
   "cell_type": "markdown",
   "metadata": {},
   "source": [
    "***\n",
    "<!-- ### [Amplitude Displacement Encoding - 4 qubits - using qml.DisplacementEmbedding](https://github.com/mariandumitrascu/qosf-challenge-2022-md/blob/main/task-02/md-task-02-disp-amplitude-encoding-4-qubits.ipynb) -->\n",
    "### Amplitude Displacement Encoding - 4 qubits - using qml.DisplacementEmbedding\n",
    "__Notebook__: [md-task-02-disp-amplitude-encoding-4-qubits.ipynb](https://github.com/mariandumitrascu/qosf-challenge-2022-md/blob/main/task-02/md-task-02-disp-amplitude-encoding-4-qubits.ipynb)\n",
    "<br>\n",
    "<br>\n",
    "This is working only on gaussian devices similar with Strawberry Fields photonic devices. Amplitude Displacement Encoding and Phase Displacement Encoding differ in only one line of code, but the results are very different. Amplitude Displacement perform much better for our data set achieving 95% accuracy very fast comparing with Phase Displacement. \n",
    "<br>\n",
    "<br>\n",
    "<br>\n",
    "References:\n",
    "<br>\n",
    "[qml.DisplacementEmbedding](https://pennylane.readthedocs.io/en/stable/code/api/pennylane.DisplacementEmbedding.html)\n"
   ]
  },
  {
   "cell_type": "markdown",
   "metadata": {},
   "source": [
    "***\n",
    "<!-- ### [Phase Displacement Encoding - 4 qubits - using qml.DisplacementEmbedding](https://github.com/mariandumitrascu/qosf-challenge-2022-md/blob/main/task-02/md-task-02-disp-phase-encoding-4-qubits.ipynb) -->\n",
    "### Phase Displacement Encoding - 4 qubits - using qml.DisplacementEmbedding\n",
    "\n",
    "__Notebook__: [md-task-02-disp-phase-encoding-4-qubits.ipynb](https://github.com/mariandumitrascu/qosf-challenge-2022-md/blob/main/task-02/md-task-02-disp-phase-encoding-4-qubits.ipynb)\n",
    "<br>\n",
    "<br>\n",
    "<br>\n",
    "References:\n",
    "<br>\n",
    "[qml.DisplacementEmbedding](https://pennylane.readthedocs.io/en/stable/code/api/pennylane.DisplacementEmbedding.html)\n"
   ]
  },
  {
   "cell_type": "markdown",
   "metadata": {},
   "source": [
    "***\n",
    "<!-- ### [QAOA Encoding - 4 qubits - using qml.QAOAEmbedding](https://github.com/mariandumitrascu/qosf-challenge-2022-md/blob/main/task-02/md-task-02-qaoa-encoding-4-qubits.ipynb) -->\n",
    "### QAOA Encoding - 4 qubits - using qml.QAOAEmbedding\n",
    "\n",
    "__Notebook__: [md-task-02-qaoa-encoding-4-qubits.ipynb](https://github.com/mariandumitrascu/qosf-challenge-2022-md/blob/main/task-02/md-task-02-qaoa-encoding-4-qubits.ipynb)\n",
    "<br>\n",
    "<br>\n",
    "This is using Hamiltonian embedding and is inspired by QAOA algorithms. **qml.QAOAEmbedding** function performs both learning and encodding. This is the worst performing in our dataset, or I am doing something wrong.\n",
    "<br>\n",
    "<br>\n",
    "References:\n",
    "<br>\n",
    "[qml.QAOAEmbedding](https://pennylane.readthedocs.io/en/stable/code/api/pennylane.QAOAEmbedding.html)\n"
   ]
  },
  {
   "cell_type": "markdown",
   "metadata": {},
   "source": [
    "## Some Conclusions\n",
    "\n",
    "I say _some_ because there is a lot more I could draw from this exercise if I'd put more time. Generally I did not spend nearly as much as I should, optimizing hyperparameters, so the value of accuracy on the test data is maximum 0.95. Accuracy and overtraining depends on number of layers and there is an optimum value for each case. This is the next thing I will focus on.\n",
    "<br>\n",
    "<br>\n",
    "Basis state encoding is the big mising. I will try to finish it in thext few days, using column 1 and 2, and eventually 3 (since it has only 19 distict values)\n",
    "<br>\n",
    "<br> The best performing configurations are:\n",
    "* Angle encoding on 2 qubits using the custom circuit and 4 layers\n",
    "* Aplitude Encoding on 2 qubits and 4 layers, \n",
    "* Amplitude Displacement on 4 qubits and  8layers (using gaussian simulator)\n",
    "\n",
    "\n",
    "<br><br>\n",
    "I would be intersting comparing various real quantum devices on various encodings.\n"
   ]
  },
  {
   "cell_type": "markdown",
   "metadata": {},
   "source": []
  }
 ],
 "metadata": {
  "interpreter": {
   "hash": "618c9bbaae4eba17fc22d1de9c89c9e050eac7d3b2274138db3ffad78e07a065"
  },
  "kernelspec": {
   "display_name": "Python 3 (ipykernel)",
   "language": "python",
   "name": "python3"
  },
  "language_info": {
   "codemirror_mode": {
    "name": "ipython",
    "version": 3
   },
   "file_extension": ".py",
   "mimetype": "text/x-python",
   "name": "python",
   "nbconvert_exporter": "python",
   "pygments_lexer": "ipython3",
   "version": "3.9.7"
  },
  "orig_nbformat": 4
 },
 "nbformat": 4,
 "nbformat_minor": 2
}
