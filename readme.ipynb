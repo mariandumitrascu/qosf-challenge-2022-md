{
 "cells": [
  {
   "cell_type": "markdown",
   "metadata": {},
   "source": [
    "# QOSF Mentorship Program - 2022 Challenge - Marian Dumitrascu\n",
    "\n",
    "## Task 3 - Encoding and Classifier\n",
    "\n",
    "### Problem Definition\n",
    "\n",
    "<br>\n",
    "Encoding the following files in a quantum circuit mock_train_set.csv and mock_test_set.csv in at least two different ways (these could be basis, angle, amplitude, kernel or random encoding\n",
    "<br>\n",
    "<br>\n",
    "* Design a variational quantum circuit for each of the encodings, uses the column 4 as the target, this is a binary class 0 and 1.<br>\n",
    "* You must use the data from column0 to column3 for your proposed classifier.<br>\n",
    "* Consider the ansatz you are going to design as a layer and find out how many layers are necessary to reach the best performance. <br>\n",
    "\n",
    "### Analyze and discuss the results\n",
    "\n",
    "Feel free to use existing frameworks (e.g. PennyLane, Qiskit) for creating and training the circuits.<br><br>\n",
    "This PennyLane demo can be useful: Training a quantum circuit with Pytorch,<br>\n",
    "This Quantum Tensorflow tutorial can be useful: Training a quantum circuit with Tensorflow.<br>\n",
    "For the variational circuit, you can try any circuit you want. You can start from one with a layer of RX, RZ and CNOTs.<br>\n",
    "\n",
    "## Approach for Task 3 - Encoding and CLassifier \n",
    "\n",
    "\n",
    "<br>\n",
    "To approach this task I used PennyLane framework, and 6 types of encoding, making use of all out of the box PennyLane embedding functions as well as one angle encoding from scratch. "
   ]
  },
  {
   "cell_type": "markdown",
   "metadata": {},
   "source": []
  }
 ],
 "metadata": {
  "interpreter": {
   "hash": "618c9bbaae4eba17fc22d1de9c89c9e050eac7d3b2274138db3ffad78e07a065"
  },
  "kernelspec": {
   "display_name": "Python 3 (ipykernel)",
   "language": "python",
   "name": "python3"
  },
  "orig_nbformat": 4
 },
 "nbformat": 4,
 "nbformat_minor": 2
}
