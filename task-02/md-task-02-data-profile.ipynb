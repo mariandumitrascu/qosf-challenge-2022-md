{
 "cells": [
  {
   "cell_type": "markdown",
   "metadata": {},
   "source": [
    "# Data Profile"
   ]
  },
  {
   "cell_type": "code",
   "execution_count": null,
   "metadata": {},
   "outputs": [],
   "source": [
    "from IPython.core.interactiveshell import InteractiveShell\n",
    "InteractiveShell.ast_node_interactivity = \"all\"\n",
    "\n",
    "from ipywidgets import widgets\n",
    "from IPython.display import display, HTML"
   ]
  },
  {
   "cell_type": "code",
   "execution_count": 12,
   "metadata": {},
   "outputs": [
    {
     "data": {
      "text/html": [
       "<div>\n",
       "<style scoped>\n",
       "    .dataframe tbody tr th:only-of-type {\n",
       "        vertical-align: middle;\n",
       "    }\n",
       "\n",
       "    .dataframe tbody tr th {\n",
       "        vertical-align: top;\n",
       "    }\n",
       "\n",
       "    .dataframe thead th {\n",
       "        text-align: right;\n",
       "    }\n",
       "</style>\n",
       "<table border=\"1\" class=\"dataframe\">\n",
       "  <thead>\n",
       "    <tr style=\"text-align: right;\">\n",
       "      <th></th>\n",
       "      <th>0</th>\n",
       "      <th>1</th>\n",
       "      <th>2</th>\n",
       "      <th>3</th>\n",
       "      <th>4</th>\n",
       "    </tr>\n",
       "  </thead>\n",
       "  <tbody>\n",
       "    <tr>\n",
       "      <th>count</th>\n",
       "      <td>300.000000</td>\n",
       "      <td>300.000000</td>\n",
       "      <td>300.000000</td>\n",
       "      <td>300.000000</td>\n",
       "      <td>300.000000</td>\n",
       "    </tr>\n",
       "    <tr>\n",
       "      <th>mean</th>\n",
       "      <td>2630.877933</td>\n",
       "      <td>308630.410000</td>\n",
       "      <td>127187.050000</td>\n",
       "      <td>46.220000</td>\n",
       "      <td>0.476667</td>\n",
       "    </tr>\n",
       "    <tr>\n",
       "      <th>std</th>\n",
       "      <td>1416.096576</td>\n",
       "      <td>460586.067687</td>\n",
       "      <td>314218.134392</td>\n",
       "      <td>27.488488</td>\n",
       "      <td>0.500290</td>\n",
       "    </tr>\n",
       "    <tr>\n",
       "      <th>min</th>\n",
       "      <td>42.350000</td>\n",
       "      <td>1.000000</td>\n",
       "      <td>1.000000</td>\n",
       "      <td>1.000000</td>\n",
       "      <td>0.000000</td>\n",
       "    </tr>\n",
       "    <tr>\n",
       "      <th>25%</th>\n",
       "      <td>1408.067500</td>\n",
       "      <td>1.000000</td>\n",
       "      <td>10.000000</td>\n",
       "      <td>20.000000</td>\n",
       "      <td>0.000000</td>\n",
       "    </tr>\n",
       "    <tr>\n",
       "      <th>50%</th>\n",
       "      <td>2672.180000</td>\n",
       "      <td>1000.000000</td>\n",
       "      <td>1000.000000</td>\n",
       "      <td>50.000000</td>\n",
       "      <td>0.000000</td>\n",
       "    </tr>\n",
       "    <tr>\n",
       "      <th>75%</th>\n",
       "      <td>3895.692500</td>\n",
       "      <td>1000000.000000</td>\n",
       "      <td>10000.000000</td>\n",
       "      <td>70.000000</td>\n",
       "      <td>1.000000</td>\n",
       "    </tr>\n",
       "    <tr>\n",
       "      <th>max</th>\n",
       "      <td>4995.610000</td>\n",
       "      <td>1000000.000000</td>\n",
       "      <td>1000000.000000</td>\n",
       "      <td>90.000000</td>\n",
       "      <td>1.000000</td>\n",
       "    </tr>\n",
       "  </tbody>\n",
       "</table>\n",
       "</div>"
      ],
      "text/plain": [
       "                 0               1               2           3           4\n",
       "count   300.000000      300.000000      300.000000  300.000000  300.000000\n",
       "mean   2630.877933   308630.410000   127187.050000   46.220000    0.476667\n",
       "std    1416.096576   460586.067687   314218.134392   27.488488    0.500290\n",
       "min      42.350000        1.000000        1.000000    1.000000    0.000000\n",
       "25%    1408.067500        1.000000       10.000000   20.000000    0.000000\n",
       "50%    2672.180000     1000.000000     1000.000000   50.000000    0.000000\n",
       "75%    3895.692500  1000000.000000    10000.000000   70.000000    1.000000\n",
       "max    4995.610000  1000000.000000  1000000.000000   90.000000    1.000000"
      ]
     },
     "execution_count": 12,
     "metadata": {},
     "output_type": "execute_result"
    },
    {
     "data": {
      "application/vnd.jupyter.widget-view+json": {
       "model_id": "e287dccd5e7b43ebb069b811a5e77a93",
       "version_major": 2,
       "version_minor": 0
      },
      "text/plain": [
       "Summarize dataset:   0%|          | 0/19 [00:00<?, ?it/s]"
      ]
     },
     "metadata": {},
     "output_type": "display_data"
    },
    {
     "data": {
      "application/vnd.jupyter.widget-view+json": {
       "model_id": "434bc4fc10824dd086cd783b8c64621d",
       "version_major": 2,
       "version_minor": 0
      },
      "text/plain": [
       "Generate report structure:   0%|          | 0/1 [00:00<?, ?it/s]"
      ]
     },
     "metadata": {},
     "output_type": "display_data"
    },
    {
     "data": {
      "application/vnd.jupyter.widget-view+json": {
       "model_id": "b96f3d6bc0d142e492c1bf1da29893ad",
       "version_major": 2,
       "version_minor": 0
      },
      "text/plain": [
       "Render HTML:   0%|          | 0/1 [00:00<?, ?it/s]"
      ]
     },
     "metadata": {},
     "output_type": "display_data"
    },
    {
     "data": {
      "application/vnd.jupyter.widget-view+json": {
       "model_id": "63dd76de4dd846f5aad96a2838e44211",
       "version_major": 2,
       "version_minor": 0
      },
      "text/plain": [
       "Export report to file:   0%|          | 0/1 [00:00<?, ?it/s]"
      ]
     },
     "metadata": {},
     "output_type": "display_data"
    },
    {
     "data": {
      "application/vnd.jupyter.widget-view+json": {
       "model_id": "21e9bc5ac97c491ba593a14c1b7045b5",
       "version_major": 2,
       "version_minor": 0
      },
      "text/plain": [
       "Render widgets:   0%|          | 0/1 [00:00<?, ?it/s]"
      ]
     },
     "metadata": {},
     "output_type": "display_data"
    },
    {
     "data": {
      "application/vnd.jupyter.widget-view+json": {
       "model_id": "9ffa609c31fd48279145c1e1d54870a6",
       "version_major": 2,
       "version_minor": 0
      },
      "text/plain": [
       "VBox(children=(Tab(children=(Tab(children=(GridBox(children=(VBox(children=(GridspecLayout(children=(HTML(valu…"
      ]
     },
     "metadata": {},
     "output_type": "display_data"
    }
   ],
   "source": [
    "import pandas as pd\n",
    "import pandas_profiling\n",
    "\n",
    "\n",
    "path_train = '/_jupyter/QC/QOSF-challenge-md-2022/task-02/mock_train_set.csv'\n",
    "path_test = '/_jupyter/QC/QOSF-challenge-md-2022/task-02/mock_test_set.csv'\n",
    "\n",
    "df = pd.read_csv(path_train)\n",
    "df.describe()\n",
    "\n",
    "profile = pandas_profiling.ProfileReport(df, explorative = True)\n",
    "profile.to_file('data_profile.html')\n",
    "profile.to_widgets()\n",
    "# profile.to_notebook_iframe()"
   ]
  },
  {
   "cell_type": "code",
   "execution_count": null,
   "metadata": {},
   "outputs": [],
   "source": []
  }
 ],
 "metadata": {
  "interpreter": {
   "hash": "d4d1e4263499bec80672ea0156c357c1ee493ec2b1c70f0acce89fc37c4a6abe"
  },
  "kernelspec": {
   "display_name": "Python 3 (ipykernel)",
   "language": "python",
   "name": "python3"
  },
  "language_info": {
   "codemirror_mode": {
    "name": "ipython",
    "version": 3
   },
   "file_extension": ".py",
   "mimetype": "text/x-python",
   "name": "python",
   "nbconvert_exporter": "python",
   "pygments_lexer": "ipython3",
   "version": "3.9.7"
  },
  "widgets": {
   "application/vnd.jupyter.widget-state+json": {
    "state": {
     "0010ecefd1df474eb12ece4e80332d7f": {
      "model_module": "@jupyter-widgets/base",
      "model_module_version": "1.2.0",
      "model_name": "LayoutModel",
      "state": {}
     },
     "0057ef5e130744468e3d36925847be41": {
      "model_module": "@jupyter-widgets/controls",
      "model_module_version": "1.5.0",
      "model_name": "DescriptionStyleModel",
      "state": {
       "description_width": ""
      }
     },
     "096a62d968ba44adaf333797f5e80fb9": {
      "model_module": "@jupyter-widgets/controls",
      "model_module_version": "1.5.0",
      "model_name": "HTMLModel",
      "state": {
       "layout": "IPY_MODEL_cc94d80d5aa64ea5a00d7809afa974ad",
       "style": "IPY_MODEL_7e0450455c3446199d60eb3b0f4919c8",
       "value": " 1/1 [00:00&lt;00:00,  4.22it/s]"
      }
     },
     "122dbae20c4841a69f73bde3e1b8e32c": {
      "model_module": "@jupyter-widgets/controls",
      "model_module_version": "1.5.0",
      "model_name": "DescriptionStyleModel",
      "state": {
       "description_width": ""
      }
     },
     "167ff933aa474c00a1529823a96ac419": {
      "model_module": "@jupyter-widgets/base",
      "model_module_version": "1.2.0",
      "model_name": "LayoutModel",
      "state": {}
     },
     "1ac379c9e9834e258456384244a93cf0": {
      "model_module": "@jupyter-widgets/controls",
      "model_module_version": "1.5.0",
      "model_name": "HBoxModel",
      "state": {
       "children": [
        "IPY_MODEL_f54b57e58534456ca81ba73525d287aa",
        "IPY_MODEL_2308fd6312dd4a42ab556594fa40f255",
        "IPY_MODEL_096a62d968ba44adaf333797f5e80fb9"
       ],
       "layout": "IPY_MODEL_789b68fa1b6144de8355c09447cce87d"
      }
     },
     "2308fd6312dd4a42ab556594fa40f255": {
      "model_module": "@jupyter-widgets/controls",
      "model_module_version": "1.5.0",
      "model_name": "FloatProgressModel",
      "state": {
       "bar_style": "success",
       "layout": "IPY_MODEL_886e707361854692995dd971a4339e94",
       "max": 1,
       "style": "IPY_MODEL_24204e9f58e548d7940cc24f30950bc7",
       "value": 1
      }
     },
     "24204e9f58e548d7940cc24f30950bc7": {
      "model_module": "@jupyter-widgets/controls",
      "model_module_version": "1.5.0",
      "model_name": "ProgressStyleModel",
      "state": {
       "description_width": ""
      }
     },
     "2efc3684356245f78be8b6b2414e3495": {
      "model_module": "@jupyter-widgets/controls",
      "model_module_version": "1.5.0",
      "model_name": "HTMLModel",
      "state": {
       "layout": "IPY_MODEL_167ff933aa474c00a1529823a96ac419",
       "style": "IPY_MODEL_f723f489128e43e7b2277443c6129ad3",
       "value": "Generate report structure: 100%"
      }
     },
     "33591adf260148f78cfbe9b39a303bd8": {
      "model_module": "@jupyter-widgets/controls",
      "model_module_version": "1.5.0",
      "model_name": "HBoxModel",
      "state": {
       "children": [
        "IPY_MODEL_f07fcb593d1b47278ca2d14d3741c9be",
        "IPY_MODEL_968f79223e7740d9b7340984dab53b81",
        "IPY_MODEL_bbaef081d4934e89abdec9466f23ac6c"
       ],
       "layout": "IPY_MODEL_cd0aa7d429cc4906815e0144f63fe0e7"
      }
     },
     "41e09bd4c8114e9ebc9f5b5ab399e177": {
      "model_module": "@jupyter-widgets/controls",
      "model_module_version": "1.5.0",
      "model_name": "HTMLModel",
      "state": {
       "layout": "IPY_MODEL_8b3cdffeaa034b6aa1f3e40e44882f54",
       "style": "IPY_MODEL_d9f39d0d2dbd4455ac3cc6c7830d1604",
       "value": " 1/1 [00:00&lt;00:00,  1.34it/s]"
      }
     },
     "4998e2941255487d94c15e36782aa4bc": {
      "model_module": "@jupyter-widgets/controls",
      "model_module_version": "1.5.0",
      "model_name": "ProgressStyleModel",
      "state": {
       "description_width": ""
      }
     },
     "5001d441f98b45c9beff257b986ee240": {
      "model_module": "@jupyter-widgets/controls",
      "model_module_version": "1.5.0",
      "model_name": "FloatProgressModel",
      "state": {
       "bar_style": "success",
       "layout": "IPY_MODEL_b00a5ba7bf964c4dbd08ce6a6cb3a51d",
       "max": 1,
       "style": "IPY_MODEL_4998e2941255487d94c15e36782aa4bc",
       "value": 1
      }
     },
     "5e5cfad252df4fb58223fbd9b09abd8b": {
      "model_module": "@jupyter-widgets/base",
      "model_module_version": "1.2.0",
      "model_name": "LayoutModel",
      "state": {}
     },
     "6b175652f11e48d7bab292949c183945": {
      "model_module": "@jupyter-widgets/base",
      "model_module_version": "1.2.0",
      "model_name": "LayoutModel",
      "state": {}
     },
     "7098887647ff4163ac5e29a7c293d8f2": {
      "model_module": "@jupyter-widgets/base",
      "model_module_version": "1.2.0",
      "model_name": "LayoutModel",
      "state": {}
     },
     "789b68fa1b6144de8355c09447cce87d": {
      "model_module": "@jupyter-widgets/base",
      "model_module_version": "1.2.0",
      "model_name": "LayoutModel",
      "state": {}
     },
     "7e0450455c3446199d60eb3b0f4919c8": {
      "model_module": "@jupyter-widgets/controls",
      "model_module_version": "1.5.0",
      "model_name": "DescriptionStyleModel",
      "state": {
       "description_width": ""
      }
     },
     "886e707361854692995dd971a4339e94": {
      "model_module": "@jupyter-widgets/base",
      "model_module_version": "1.2.0",
      "model_name": "LayoutModel",
      "state": {}
     },
     "8b3cdffeaa034b6aa1f3e40e44882f54": {
      "model_module": "@jupyter-widgets/base",
      "model_module_version": "1.2.0",
      "model_name": "LayoutModel",
      "state": {}
     },
     "968f79223e7740d9b7340984dab53b81": {
      "model_module": "@jupyter-widgets/controls",
      "model_module_version": "1.5.0",
      "model_name": "FloatProgressModel",
      "state": {
       "bar_style": "success",
       "layout": "IPY_MODEL_5e5cfad252df4fb58223fbd9b09abd8b",
       "max": 19,
       "style": "IPY_MODEL_fa64bbd06a394cdab404a02d30c0698a",
       "value": 19
      }
     },
     "b00a5ba7bf964c4dbd08ce6a6cb3a51d": {
      "model_module": "@jupyter-widgets/base",
      "model_module_version": "1.2.0",
      "model_name": "LayoutModel",
      "state": {}
     },
     "b420efce89b24154b7e1d8858c95cfe7": {
      "model_module": "@jupyter-widgets/controls",
      "model_module_version": "1.5.0",
      "model_name": "DescriptionStyleModel",
      "state": {
       "description_width": ""
      }
     },
     "bbaef081d4934e89abdec9466f23ac6c": {
      "model_module": "@jupyter-widgets/controls",
      "model_module_version": "1.5.0",
      "model_name": "HTMLModel",
      "state": {
       "layout": "IPY_MODEL_ed0bdd343024488bb181d75cb44b3dcb",
       "style": "IPY_MODEL_b420efce89b24154b7e1d8858c95cfe7",
       "value": " 19/19 [00:02&lt;00:00,  7.13it/s, Completed]"
      }
     },
     "cc94d80d5aa64ea5a00d7809afa974ad": {
      "model_module": "@jupyter-widgets/base",
      "model_module_version": "1.2.0",
      "model_name": "LayoutModel",
      "state": {}
     },
     "cd0aa7d429cc4906815e0144f63fe0e7": {
      "model_module": "@jupyter-widgets/base",
      "model_module_version": "1.2.0",
      "model_name": "LayoutModel",
      "state": {}
     },
     "d9f39d0d2dbd4455ac3cc6c7830d1604": {
      "model_module": "@jupyter-widgets/controls",
      "model_module_version": "1.5.0",
      "model_name": "DescriptionStyleModel",
      "state": {
       "description_width": ""
      }
     },
     "ed0bdd343024488bb181d75cb44b3dcb": {
      "model_module": "@jupyter-widgets/base",
      "model_module_version": "1.2.0",
      "model_name": "LayoutModel",
      "state": {}
     },
     "f07fcb593d1b47278ca2d14d3741c9be": {
      "model_module": "@jupyter-widgets/controls",
      "model_module_version": "1.5.0",
      "model_name": "HTMLModel",
      "state": {
       "layout": "IPY_MODEL_0010ecefd1df474eb12ece4e80332d7f",
       "style": "IPY_MODEL_122dbae20c4841a69f73bde3e1b8e32c",
       "value": "Summarize dataset: 100%"
      }
     },
     "f0ddee1ab23840e08fa80a52485a6576": {
      "model_module": "@jupyter-widgets/controls",
      "model_module_version": "1.5.0",
      "model_name": "HBoxModel",
      "state": {
       "children": [
        "IPY_MODEL_2efc3684356245f78be8b6b2414e3495",
        "IPY_MODEL_5001d441f98b45c9beff257b986ee240",
        "IPY_MODEL_41e09bd4c8114e9ebc9f5b5ab399e177"
       ],
       "layout": "IPY_MODEL_7098887647ff4163ac5e29a7c293d8f2"
      }
     },
     "f54b57e58534456ca81ba73525d287aa": {
      "model_module": "@jupyter-widgets/controls",
      "model_module_version": "1.5.0",
      "model_name": "HTMLModel",
      "state": {
       "layout": "IPY_MODEL_6b175652f11e48d7bab292949c183945",
       "style": "IPY_MODEL_0057ef5e130744468e3d36925847be41",
       "value": "Render HTML: 100%"
      }
     },
     "f723f489128e43e7b2277443c6129ad3": {
      "model_module": "@jupyter-widgets/controls",
      "model_module_version": "1.5.0",
      "model_name": "DescriptionStyleModel",
      "state": {
       "description_width": ""
      }
     },
     "fa64bbd06a394cdab404a02d30c0698a": {
      "model_module": "@jupyter-widgets/controls",
      "model_module_version": "1.5.0",
      "model_name": "ProgressStyleModel",
      "state": {
       "description_width": ""
      }
     }
    },
    "version_major": 2,
    "version_minor": 0
   }
  }
 },
 "nbformat": 4,
 "nbformat_minor": 4
}
