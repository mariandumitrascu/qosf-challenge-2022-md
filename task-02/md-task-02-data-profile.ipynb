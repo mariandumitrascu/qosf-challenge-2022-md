{
 "cells": [
  {
   "cell_type": "markdown",
   "metadata": {},
   "source": [
    "# Data Profile"
   ]
  },
  {
   "cell_type": "code",
   "execution_count": 1,
   "metadata": {},
   "outputs": [],
   "source": [
    "from IPython.core.interactiveshell import InteractiveShell\n",
    "InteractiveShell.ast_node_interactivity = \"all\"\n",
    "\n",
    "from ipywidgets import widgets\n",
    "from IPython.display import display, HTML"
   ]
  },
  {
   "cell_type": "code",
   "execution_count": 9,
   "metadata": {},
   "outputs": [
    {
     "data": {
      "application/vnd.jupyter.widget-view+json": {
       "model_id": "ce27bc7906ff41f0acf276d3b5fb4429",
       "version_major": 2,
       "version_minor": 0
      },
      "text/plain": [
       "Summarize dataset:   0%|          | 0/19 [00:00<?, ?it/s]"
      ]
     },
     "metadata": {},
     "output_type": "display_data"
    },
    {
     "data": {
      "application/vnd.jupyter.widget-view+json": {
       "model_id": "e167a1e1c36f411eb0033f185ca1807b",
       "version_major": 2,
       "version_minor": 0
      },
      "text/plain": [
       "Generate report structure:   0%|          | 0/1 [00:00<?, ?it/s]"
      ]
     },
     "metadata": {},
     "output_type": "display_data"
    },
    {
     "data": {
      "application/vnd.jupyter.widget-view+json": {
       "model_id": "78c10a6139264293878b0a326683c4c4",
       "version_major": 2,
       "version_minor": 0
      },
      "text/plain": [
       "Render HTML:   0%|          | 0/1 [00:00<?, ?it/s]"
      ]
     },
     "metadata": {},
     "output_type": "display_data"
    },
    {
     "data": {
      "application/vnd.jupyter.widget-view+json": {
       "model_id": "0079c0de10f2426f9920542580e87066",
       "version_major": 2,
       "version_minor": 0
      },
      "text/plain": [
       "Export report to file:   0%|          | 0/1 [00:00<?, ?it/s]"
      ]
     },
     "metadata": {},
     "output_type": "display_data"
    },
    {
     "data": {
      "application/vnd.jupyter.widget-view+json": {
       "model_id": "ca60771805d2495b9f24428397e32d2a",
       "version_major": 2,
       "version_minor": 0
      },
      "text/plain": [
       "Render widgets:   0%|          | 0/1 [00:00<?, ?it/s]"
      ]
     },
     "metadata": {},
     "output_type": "display_data"
    },
    {
     "data": {
      "application/vnd.jupyter.widget-view+json": {
       "model_id": "0be1090e66a0491faae8549d1447eb46",
       "version_major": 2,
       "version_minor": 0
      },
      "text/plain": [
       "VBox(children=(Tab(children=(Tab(children=(GridBox(children=(VBox(children=(GridspecLayout(children=(HTML(valu…"
      ]
     },
     "metadata": {},
     "output_type": "display_data"
    }
   ],
   "source": [
    "import pandas as pd\n",
    "import pandas_profiling\n",
    "\n",
    "\n",
    "path_train = '/_jupyter/QC/QOSF-challenge-md-2022/task-02/mock_train_set.csv'\n",
    "path_test = '/_jupyter/QC/QOSF-challenge-md-2022/task-02/mock_test_set.csv'\n",
    "\n",
    "# Depreciated: pre 2.0.0 version\n",
    "df = pd.read_csv(path_train)\n",
    "\n",
    "profile = pandas_profiling.ProfileReport(df, explorative = True)\n",
    "profile.to_file('data_profile.html')\n",
    "profile.to_widgets()"
   ]
  },
  {
   "cell_type": "code",
   "execution_count": null,
   "metadata": {},
   "outputs": [],
   "source": []
  }
 ],
 "metadata": {
  "interpreter": {
   "hash": "d4d1e4263499bec80672ea0156c357c1ee493ec2b1c70f0acce89fc37c4a6abe"
  },
  "kernelspec": {
   "display_name": "Python 3 (ipykernel)",
   "language": "python",
   "name": "python3"
  },
  "language_info": {
   "codemirror_mode": {
    "name": "ipython",
    "version": 3
   },
   "file_extension": ".py",
   "mimetype": "text/x-python",
   "name": "python",
   "nbconvert_exporter": "python",
   "pygments_lexer": "ipython3",
   "version": "3.9.7"
  },
  "widgets": {
   "application/vnd.jupyter.widget-state+json": {
    "state": {
     "0010ecefd1df474eb12ece4e80332d7f": {
      "model_module": "@jupyter-widgets/base",
      "model_module_version": "1.2.0",
      "model_name": "LayoutModel",
      "state": {}
     },
     "0057ef5e130744468e3d36925847be41": {
      "model_module": "@jupyter-widgets/controls",
      "model_module_version": "1.5.0",
      "model_name": "DescriptionStyleModel",
      "state": {
       "description_width": ""
      }
     },
     "096a62d968ba44adaf333797f5e80fb9": {
      "model_module": "@jupyter-widgets/controls",
      "model_module_version": "1.5.0",
      "model_name": "HTMLModel",
      "state": {
       "layout": "IPY_MODEL_cc94d80d5aa64ea5a00d7809afa974ad",
       "style": "IPY_MODEL_7e0450455c3446199d60eb3b0f4919c8",
       "value": " 1/1 [00:00&lt;00:00,  4.22it/s]"
      }
     },
     "122dbae20c4841a69f73bde3e1b8e32c": {
      "model_module": "@jupyter-widgets/controls",
      "model_module_version": "1.5.0",
      "model_name": "DescriptionStyleModel",
      "state": {
       "description_width": ""
      }
     },
     "167ff933aa474c00a1529823a96ac419": {
      "model_module": "@jupyter-widgets/base",
      "model_module_version": "1.2.0",
      "model_name": "LayoutModel",
      "state": {}
     },
     "1ac379c9e9834e258456384244a93cf0": {
      "model_module": "@jupyter-widgets/controls",
      "model_module_version": "1.5.0",
      "model_name": "HBoxModel",
      "state": {
       "children": [
        "IPY_MODEL_f54b57e58534456ca81ba73525d287aa",
        "IPY_MODEL_2308fd6312dd4a42ab556594fa40f255",
        "IPY_MODEL_096a62d968ba44adaf333797f5e80fb9"
       ],
       "layout": "IPY_MODEL_789b68fa1b6144de8355c09447cce87d"
      }
     },
     "2308fd6312dd4a42ab556594fa40f255": {
      "model_module": "@jupyter-widgets/controls",
      "model_module_version": "1.5.0",
      "model_name": "FloatProgressModel",
      "state": {
       "bar_style": "success",
       "layout": "IPY_MODEL_886e707361854692995dd971a4339e94",
       "max": 1,
       "style": "IPY_MODEL_24204e9f58e548d7940cc24f30950bc7",
       "value": 1
      }
     },
     "24204e9f58e548d7940cc24f30950bc7": {
      "model_module": "@jupyter-widgets/controls",
      "model_module_version": "1.5.0",
      "model_name": "ProgressStyleModel",
      "state": {
       "description_width": ""
      }
     },
     "2efc3684356245f78be8b6b2414e3495": {
      "model_module": "@jupyter-widgets/controls",
      "model_module_version": "1.5.0",
      "model_name": "HTMLModel",
      "state": {
       "layout": "IPY_MODEL_167ff933aa474c00a1529823a96ac419",
       "style": "IPY_MODEL_f723f489128e43e7b2277443c6129ad3",
       "value": "Generate report structure: 100%"
      }
     },
     "33591adf260148f78cfbe9b39a303bd8": {
      "model_module": "@jupyter-widgets/controls",
      "model_module_version": "1.5.0",
      "model_name": "HBoxModel",
      "state": {
       "children": [
        "IPY_MODEL_f07fcb593d1b47278ca2d14d3741c9be",
        "IPY_MODEL_968f79223e7740d9b7340984dab53b81",
        "IPY_MODEL_bbaef081d4934e89abdec9466f23ac6c"
       ],
       "layout": "IPY_MODEL_cd0aa7d429cc4906815e0144f63fe0e7"
      }
     },
     "41e09bd4c8114e9ebc9f5b5ab399e177": {
      "model_module": "@jupyter-widgets/controls",
      "model_module_version": "1.5.0",
      "model_name": "HTMLModel",
      "state": {
       "layout": "IPY_MODEL_8b3cdffeaa034b6aa1f3e40e44882f54",
       "style": "IPY_MODEL_d9f39d0d2dbd4455ac3cc6c7830d1604",
       "value": " 1/1 [00:00&lt;00:00,  1.34it/s]"
      }
     },
     "4998e2941255487d94c15e36782aa4bc": {
      "model_module": "@jupyter-widgets/controls",
      "model_module_version": "1.5.0",
      "model_name": "ProgressStyleModel",
      "state": {
       "description_width": ""
      }
     },
     "5001d441f98b45c9beff257b986ee240": {
      "model_module": "@jupyter-widgets/controls",
      "model_module_version": "1.5.0",
      "model_name": "FloatProgressModel",
      "state": {
       "bar_style": "success",
       "layout": "IPY_MODEL_b00a5ba7bf964c4dbd08ce6a6cb3a51d",
       "max": 1,
       "style": "IPY_MODEL_4998e2941255487d94c15e36782aa4bc",
       "value": 1
      }
     },
     "5e5cfad252df4fb58223fbd9b09abd8b": {
      "model_module": "@jupyter-widgets/base",
      "model_module_version": "1.2.0",
      "model_name": "LayoutModel",
      "state": {}
     },
     "6b175652f11e48d7bab292949c183945": {
      "model_module": "@jupyter-widgets/base",
      "model_module_version": "1.2.0",
      "model_name": "LayoutModel",
      "state": {}
     },
     "7098887647ff4163ac5e29a7c293d8f2": {
      "model_module": "@jupyter-widgets/base",
      "model_module_version": "1.2.0",
      "model_name": "LayoutModel",
      "state": {}
     },
     "789b68fa1b6144de8355c09447cce87d": {
      "model_module": "@jupyter-widgets/base",
      "model_module_version": "1.2.0",
      "model_name": "LayoutModel",
      "state": {}
     },
     "7e0450455c3446199d60eb3b0f4919c8": {
      "model_module": "@jupyter-widgets/controls",
      "model_module_version": "1.5.0",
      "model_name": "DescriptionStyleModel",
      "state": {
       "description_width": ""
      }
     },
     "886e707361854692995dd971a4339e94": {
      "model_module": "@jupyter-widgets/base",
      "model_module_version": "1.2.0",
      "model_name": "LayoutModel",
      "state": {}
     },
     "8b3cdffeaa034b6aa1f3e40e44882f54": {
      "model_module": "@jupyter-widgets/base",
      "model_module_version": "1.2.0",
      "model_name": "LayoutModel",
      "state": {}
     },
     "968f79223e7740d9b7340984dab53b81": {
      "model_module": "@jupyter-widgets/controls",
      "model_module_version": "1.5.0",
      "model_name": "FloatProgressModel",
      "state": {
       "bar_style": "success",
       "layout": "IPY_MODEL_5e5cfad252df4fb58223fbd9b09abd8b",
       "max": 19,
       "style": "IPY_MODEL_fa64bbd06a394cdab404a02d30c0698a",
       "value": 19
      }
     },
     "b00a5ba7bf964c4dbd08ce6a6cb3a51d": {
      "model_module": "@jupyter-widgets/base",
      "model_module_version": "1.2.0",
      "model_name": "LayoutModel",
      "state": {}
     },
     "b420efce89b24154b7e1d8858c95cfe7": {
      "model_module": "@jupyter-widgets/controls",
      "model_module_version": "1.5.0",
      "model_name": "DescriptionStyleModel",
      "state": {
       "description_width": ""
      }
     },
     "bbaef081d4934e89abdec9466f23ac6c": {
      "model_module": "@jupyter-widgets/controls",
      "model_module_version": "1.5.0",
      "model_name": "HTMLModel",
      "state": {
       "layout": "IPY_MODEL_ed0bdd343024488bb181d75cb44b3dcb",
       "style": "IPY_MODEL_b420efce89b24154b7e1d8858c95cfe7",
       "value": " 19/19 [00:02&lt;00:00,  7.13it/s, Completed]"
      }
     },
     "cc94d80d5aa64ea5a00d7809afa974ad": {
      "model_module": "@jupyter-widgets/base",
      "model_module_version": "1.2.0",
      "model_name": "LayoutModel",
      "state": {}
     },
     "cd0aa7d429cc4906815e0144f63fe0e7": {
      "model_module": "@jupyter-widgets/base",
      "model_module_version": "1.2.0",
      "model_name": "LayoutModel",
      "state": {}
     },
     "d9f39d0d2dbd4455ac3cc6c7830d1604": {
      "model_module": "@jupyter-widgets/controls",
      "model_module_version": "1.5.0",
      "model_name": "DescriptionStyleModel",
      "state": {
       "description_width": ""
      }
     },
     "ed0bdd343024488bb181d75cb44b3dcb": {
      "model_module": "@jupyter-widgets/base",
      "model_module_version": "1.2.0",
      "model_name": "LayoutModel",
      "state": {}
     },
     "f07fcb593d1b47278ca2d14d3741c9be": {
      "model_module": "@jupyter-widgets/controls",
      "model_module_version": "1.5.0",
      "model_name": "HTMLModel",
      "state": {
       "layout": "IPY_MODEL_0010ecefd1df474eb12ece4e80332d7f",
       "style": "IPY_MODEL_122dbae20c4841a69f73bde3e1b8e32c",
       "value": "Summarize dataset: 100%"
      }
     },
     "f0ddee1ab23840e08fa80a52485a6576": {
      "model_module": "@jupyter-widgets/controls",
      "model_module_version": "1.5.0",
      "model_name": "HBoxModel",
      "state": {
       "children": [
        "IPY_MODEL_2efc3684356245f78be8b6b2414e3495",
        "IPY_MODEL_5001d441f98b45c9beff257b986ee240",
        "IPY_MODEL_41e09bd4c8114e9ebc9f5b5ab399e177"
       ],
       "layout": "IPY_MODEL_7098887647ff4163ac5e29a7c293d8f2"
      }
     },
     "f54b57e58534456ca81ba73525d287aa": {
      "model_module": "@jupyter-widgets/controls",
      "model_module_version": "1.5.0",
      "model_name": "HTMLModel",
      "state": {
       "layout": "IPY_MODEL_6b175652f11e48d7bab292949c183945",
       "style": "IPY_MODEL_0057ef5e130744468e3d36925847be41",
       "value": "Render HTML: 100%"
      }
     },
     "f723f489128e43e7b2277443c6129ad3": {
      "model_module": "@jupyter-widgets/controls",
      "model_module_version": "1.5.0",
      "model_name": "DescriptionStyleModel",
      "state": {
       "description_width": ""
      }
     },
     "fa64bbd06a394cdab404a02d30c0698a": {
      "model_module": "@jupyter-widgets/controls",
      "model_module_version": "1.5.0",
      "model_name": "ProgressStyleModel",
      "state": {
       "description_width": ""
      }
     }
    },
    "version_major": 2,
    "version_minor": 0
   }
  }
 },
 "nbformat": 4,
 "nbformat_minor": 4
}
