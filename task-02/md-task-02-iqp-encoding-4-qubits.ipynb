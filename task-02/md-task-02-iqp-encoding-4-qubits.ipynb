{
 "cells": [
  {
   "cell_type": "markdown",
   "id": "7ccfe335-e640-4b2c-b933-cba2bd38fab7",
   "metadata": {},
   "source": [
    "# IQP Encoding - 4 qubits - using qml.IQPEmbedding"
   ]
  },
  {
   "cell_type": "code",
   "execution_count": 7,
   "id": "d2481de7-3eb0-4d54-ae30-a6b8b55637bb",
   "metadata": {},
   "outputs": [],
   "source": [
    "from IPython.core.interactiveshell import InteractiveShell\n",
    "InteractiveShell.ast_node_interactivity = \"all\"\n",
    "\n",
    "from ipywidgets import widgets\n",
    "from IPython.display import display, HTML"
   ]
  },
  {
   "cell_type": "code",
   "execution_count": 8,
   "id": "f3fb9ae3",
   "metadata": {},
   "outputs": [],
   "source": [
    "import pennylane as qml\n",
    "from pennylane import numpy as np\n",
    "from pennylane.optimize import NesterovMomentumOptimizer\n",
    "\n",
    "import sys\n",
    "from math import sqrt, pi\n",
    "import time\n",
    "\n",
    "import pandas as pd\n",
    "import scipy\n",
    "from sklearn import datasets\n",
    "from sklearn.model_selection import train_test_split\n",
    "from sklearn.preprocessing import StandardScaler\n",
    "from sklearn.preprocessing import Normalizer\n",
    "# supress a warning that is not useful here\n",
    "pd.options.mode.chained_assignment = None"
   ]
  },
  {
   "cell_type": "markdown",
   "id": "3d03af09",
   "metadata": {},
   "source": [
    "## Data Loading and Exploration\n",
    "\n",
    "Second and third columns looks better as decimal logarithms. Also it seems they are highly corelated and eventually can be compressed to one feature. "
   ]
  },
  {
   "cell_type": "code",
   "execution_count": 9,
   "id": "407ceefd",
   "metadata": {},
   "outputs": [
    {
     "name": "stdout",
     "output_type": "stream",
     "text": [
      "Train data standardised:\n",
      " [[ 2.78926e+03  3.00000e+00  1.00000e+00  2.00000e+01 -1.00000e+00]\n",
      " [ 4.04001e+03  6.00000e+00  0.00000e+00  1.00000e+00  1.00000e+00]\n",
      " [ 2.93120e+03  4.00000e+00  4.00000e+00  4.00000e+01  1.00000e+00]\n",
      " ...\n",
      " [ 4.18281e+03  0.00000e+00  0.00000e+00  6.50000e+01 -1.00000e+00]\n",
      " [ 3.11375e+03  4.00000e+00  2.00000e+00  1.00000e+00  1.00000e+00]\n",
      " [ 4.56757e+03  4.00000e+00  5.00000e+00  9.00000e+01  1.00000e+00]]\n"
     ]
    },
    {
     "data": {
      "text/plain": [
       "StandardScaler()"
      ]
     },
     "execution_count": 9,
     "metadata": {},
     "output_type": "execute_result"
    },
    {
     "name": "stdout",
     "output_type": "stream",
     "text": [
      "Train data normalized:\n",
      " [[ 0.08683356 -0.03797654 -0.66528081 -0.74055328]\n",
      " [ 0.37612267  0.45694046 -0.51293519 -0.62179952]\n",
      " [ 0.26356815  0.46027486  0.79974818 -0.28121474]\n",
      " ...\n",
      " [ 0.47981546 -0.57210908 -0.59413647  0.29911565]\n",
      " [ 0.1940783   0.21079313 -0.20305745 -0.93630526]\n",
      " [ 0.56534373  0.1530959   0.47275529  0.65836961]]\n"
     ]
    }
   ],
   "source": [
    "## #################################################################################\n",
    "# globals\n",
    "\n",
    "path_train = '/_jupyter/QC/QOSF-challenge-md-2022/task-02/mock_train_set.csv'\n",
    "path_test = '/_jupyter/QC/QOSF-challenge-md-2022/task-02/mock_test_set.csv'\n",
    "\n",
    "num_qubits = 4\n",
    "num_layers = 2\n",
    "\n",
    "dev = qml.device(\"default.qubit\", wires=num_qubits)\n",
    "\n",
    "\n",
    "## #################################################################################\n",
    "df = pd.read_csv(path_train)\n",
    "df_c = df.copy(deep=True)\n",
    "df['1'] = np.log10(df_c['1'])\n",
    "df['2'] = np.log10(df_c['2'])\n",
    "\n",
    "f = lambda x: -1.0 if x==0 else 1.0\n",
    "df['4'] = df_c['4'].map(f)\n",
    "\n",
    "npdf = df.to_numpy()\n",
    "data = np.array(npdf)\n",
    "\n",
    "print(\"Train data standardised:\\n\", data)\n",
    "\n",
    "X = data[:, 0:4]\n",
    "Y = data[:, -1]\n",
    "\n",
    "# scale the data using sklearn StandardScaler\n",
    "# std_slc = StandardScaler(with_mean=False)\n",
    "std_slc = StandardScaler(with_mean=True)\n",
    "std_slc.fit(X)\n",
    "X_std = std_slc.transform(X)\n",
    "\n",
    "# normalize data using sklearn StandardScaler\n",
    "normalizer = Normalizer().fit(X_std)  # fit does nothing.\n",
    "X_norm = normalizer.transform(X_std)\n",
    "\n",
    "# features will be the angles vector\n",
    "features = np.array(X_norm, requires_grad=False)\n",
    "print(\"Train data normalized:\\n\", features)\n"
   ]
  },
  {
   "cell_type": "markdown",
   "id": "97d48fc8",
   "metadata": {},
   "source": [
    "## Data Encoding, Circuit Preparation and Cost Functions"
   ]
  },
  {
   "cell_type": "code",
   "execution_count": 10,
   "id": "c55af916",
   "metadata": {},
   "outputs": [],
   "source": [
    "# ###################################################################\n",
    "# layer circuit - this is where the circuit learns\n",
    "def layer(W):\n",
    "\n",
    "    qml.Rot(W[0, 0], W[0, 1], W[0, 2], wires=0)\n",
    "    qml.Rot(W[1, 0], W[1, 1], W[1, 2], wires=1)\n",
    "    qml.Rot(W[2, 0], W[2, 1], W[2, 2], wires=2)\n",
    "    qml.Rot(W[3, 0], W[3, 1], W[3, 2], wires=3)\n",
    "\n",
    "    qml.CNOT(wires=[0, 1])\n",
    "    qml.CNOT(wires=[1, 2])\n",
    "    qml.CNOT(wires=[2, 3])\n",
    "    qml.CNOT(wires=[3, 0])\n",
    "\n",
    "# ###################################################################\n",
    "# the circuit - where the action happens\n",
    "@qml.qnode(dev)\n",
    "def circuit(weights, data):\n",
    "\n",
    "    qml.IQPEmbedding(features=data, wires=range(num_qubits), n_repeats=4)\n",
    "\n",
    "    for W in weights:\n",
    "        layer(W)\n",
    "\n",
    "    # return qml.expval(qml.PauliZ(0))\n",
    "    return [qml.expval(qml.PauliZ(w)) for w in range(num_qubits)]\n",
    "\n",
    "draw_flag = 0\n",
    "# ###############################################################################\n",
    "# variational classifier\n",
    "# this will be called on each optimization step by the cost evaluation\n",
    "def variational_classifier(weights, bias, data):\n",
    "    \n",
    "    global draw_flag\n",
    "\n",
    "    if draw_flag:\n",
    "        draw_flag=0\n",
    "        # qml.draw\n",
    "\n",
    "    # return circuit(weights, data) + bias\n",
    "    r = circuit(weights, data)\n",
    "    s = 0\n",
    "    for elem in r:\n",
    "        s += elem*elem\n",
    "\n",
    "    s = np.sqrt(s) + bias\n",
    "    return s\n",
    "\n",
    "# ###############################################################################\n",
    "# standard square loss\n",
    "def square_loss(labels, predictions):\n",
    "    \n",
    "    loss = 0\n",
    "    for l, p in zip(labels, predictions):\n",
    "        loss = loss + (l - p) ** 2\n",
    "\n",
    "    loss = loss / len(labels)\n",
    "    return loss\n",
    "\n",
    "# ###############################################################################\n",
    "# goal: maximize accuracy\n",
    "def accuracy(labels, predictions):\n",
    "\n",
    "    loss = 0\n",
    "    for l, p in zip(labels, predictions):\n",
    "        if abs(l - p) < 1e-5:\n",
    "            loss = loss + 1\n",
    "    loss = loss / len(labels)\n",
    "\n",
    "    return loss\n",
    "\n",
    "# ###############################################################################\n",
    "# cost function - will be called during optimization process\n",
    "def cost(weights, bias, features, labels):\n",
    "    \n",
    "    predictions = [variational_classifier(weights, bias, f) for f in features]\n",
    "    return square_loss(labels, predictions)\n"
   ]
  },
  {
   "cell_type": "markdown",
   "id": "d76f6ca6",
   "metadata": {},
   "source": [
    "## Datasets Preparation"
   ]
  },
  {
   "cell_type": "code",
   "execution_count": 11,
   "id": "a59fb6d4",
   "metadata": {},
   "outputs": [
    {
     "data": {
      "text/plain": [
       "StandardScaler(with_mean=False)"
      ]
     },
     "execution_count": 11,
     "metadata": {},
     "output_type": "execute_result"
    }
   ],
   "source": [
    "np.random.seed(0)\n",
    "num_data = len(Y)\n",
    "\n",
    "# num_train = int(0.75 * num_data)\n",
    "num_train = int(0.75 * num_data)\n",
    "index = np.random.permutation(range(num_data))\n",
    "\n",
    "feats_train = features[index[:num_train]]\n",
    "Y_train = Y[index[:num_train]]\n",
    "\n",
    "feats_val = features[index[num_train:]]\n",
    "Y_val = Y[index[num_train:]]\n",
    "\n",
    "# We need these later for plotting\n",
    "X_train = X[index[:num_train]]\n",
    "X_val = X[index[num_train:]]\n",
    "\n",
    "# ######################################################################\n",
    "# Load the test dataset and apply same transformations as we did with the train dataset.\n",
    "df_test = pd.read_csv(path_test)\n",
    "df_test_c = df_test.copy(deep=True)\n",
    "df_test['1'] = np.log10(df_test_c['1'])\n",
    "df_test['2'] = np.log10(df_test_c['2'])\n",
    "\n",
    "f = lambda x: -1.0 if x==0 else 1.0\n",
    "df_test['4'] = df_test_c['4'].map(f)\n",
    "data_test = df_test.to_numpy()\n",
    "\n",
    "X_test_ini = data_test[:, 0:4]\n",
    "Y_test = data_test[:, -1]\n",
    "\n",
    "# scale data using sklearn StandardScaler\n",
    "std_slc = StandardScaler(with_mean=False)\n",
    "std_slc.fit(X_test_ini)\n",
    "X_test_std = std_slc.transform(X_test_ini)\n",
    "\n",
    "# normalize data using sklearn Normalizer\n",
    "normalizer = Normalizer().fit(X_test_std)  # fit does nothing.\n",
    "X_test_norm = normalizer.transform(X_test_std)\n",
    "\n",
    "# convert to a pennylane numpy array\n",
    "X_test = np.array(X_test_norm, requires_grad=False)\n",
    "\n",
    "\n",
    "# ######################################################################\n",
    "# accuracy for test dtaset\n",
    "def test_accuracy(weights, bias):\n",
    "    # apply the variational clasifier circuit on test dataset\n",
    "    # using the learned weights\n",
    "    predictions_test = [np.sign(variational_classifier(weights, bias, f)) for f in X_test]\n",
    "\n",
    "    return accuracy(Y_test, predictions_test)\n",
    "\n"
   ]
  },
  {
   "cell_type": "markdown",
   "id": "57eced7f",
   "metadata": {},
   "source": [
    "## Training"
   ]
  },
  {
   "cell_type": "code",
   "execution_count": 12,
   "id": "544af8f8",
   "metadata": {},
   "outputs": [
    {
     "name": "stdout",
     "output_type": "stream",
     "text": [
      "Iter:     1 | Cost: 1.2318703 | Acc train: 0.4888889 | Acc validation: 0.4400000 | Acc test: 0.5166667 \n",
      "Iter:     2 | Cost: 1.0429467 | Acc train: 0.4177778 | Acc validation: 0.4933333 | Acc test: 0.2416667 \n",
      "Iter:     3 | Cost: 1.0351928 | Acc train: 0.5688889 | Acc validation: 0.5866667 | Acc test: 0.3333333 \n",
      "Iter:     4 | Cost: 1.1822601 | Acc train: 0.5022222 | Acc validation: 0.5466667 | Acc test: 0.4166667 \n",
      "Iter:     5 | Cost: 1.4370250 | Acc train: 0.5111111 | Acc validation: 0.5600000 | Acc test: 0.4833333 \n",
      "Iter:     6 | Cost: 1.5312081 | Acc train: 0.5111111 | Acc validation: 0.5600000 | Acc test: 0.4833333 \n",
      "Iter:     7 | Cost: 1.2678739 | Acc train: 0.5022222 | Acc validation: 0.5600000 | Acc test: 0.4833333 \n",
      "Iter:     8 | Cost: 1.1092681 | Acc train: 0.5111111 | Acc validation: 0.5733333 | Acc test: 0.4333333 \n",
      "Iter:     9 | Cost: 1.0168177 | Acc train: 0.5244444 | Acc validation: 0.5066667 | Acc test: 0.4250000 \n",
      "Iter:    10 | Cost: 0.9954189 | Acc train: 0.5466667 | Acc validation: 0.5066667 | Acc test: 0.4166667 \n",
      "Iter:    11 | Cost: 0.9747898 | Acc train: 0.5644444 | Acc validation: 0.5733333 | Acc test: 0.4250000 \n",
      "Iter:    12 | Cost: 0.9709685 | Acc train: 0.6666667 | Acc validation: 0.6000000 | Acc test: 0.7000000 \n",
      "Iter:    13 | Cost: 0.9941347 | Acc train: 0.6088889 | Acc validation: 0.5466667 | Acc test: 0.6083333 \n",
      "Iter:    14 | Cost: 0.9546930 | Acc train: 0.6888889 | Acc validation: 0.6666667 | Acc test: 0.6583333 \n",
      "Iter:    15 | Cost: 0.9399768 | Acc train: 0.6666667 | Acc validation: 0.6533333 | Acc test: 0.6333333 \n",
      "Iter:    16 | Cost: 0.9300744 | Acc train: 0.6711111 | Acc validation: 0.7066667 | Acc test: 0.5750000 \n",
      "Iter:    17 | Cost: 0.9200473 | Acc train: 0.5822222 | Acc validation: 0.5733333 | Acc test: 0.5666667 \n",
      "Iter:    18 | Cost: 0.9168809 | Acc train: 0.5955556 | Acc validation: 0.5733333 | Acc test: 0.5750000 \n",
      "Iter:    19 | Cost: 0.8990492 | Acc train: 0.6088889 | Acc validation: 0.6000000 | Acc test: 0.5833333 \n",
      "Iter:    20 | Cost: 0.8750870 | Acc train: 0.6577778 | Acc validation: 0.6400000 | Acc test: 0.6500000 \n",
      "Iter:    21 | Cost: 0.8602721 | Acc train: 0.6666667 | Acc validation: 0.6800000 | Acc test: 0.6916667 \n",
      "Iter:    22 | Cost: 0.8345774 | Acc train: 0.7377778 | Acc validation: 0.7866667 | Acc test: 0.6666667 \n",
      "Iter:    23 | Cost: 0.8155776 | Acc train: 0.7644444 | Acc validation: 0.8133333 | Acc test: 0.6750000 \n",
      "Iter:    24 | Cost: 0.7970394 | Acc train: 0.7688889 | Acc validation: 0.8000000 | Acc test: 0.6666667 \n",
      "Iter:    25 | Cost: 0.7851158 | Acc train: 0.7777778 | Acc validation: 0.8133333 | Acc test: 0.6000000 \n",
      "Iter:    26 | Cost: 0.7961041 | Acc train: 0.7200000 | Acc validation: 0.7600000 | Acc test: 0.4833333 \n",
      "Iter:    27 | Cost: 0.7694278 | Acc train: 0.7600000 | Acc validation: 0.7733333 | Acc test: 0.4833333 \n",
      "Iter:    28 | Cost: 0.7707378 | Acc train: 0.7422222 | Acc validation: 0.7600000 | Acc test: 0.4833333 \n",
      "Iter:    29 | Cost: 0.7544035 | Acc train: 0.7422222 | Acc validation: 0.7600000 | Acc test: 0.5000000 \n",
      "Iter:    30 | Cost: 0.7228896 | Acc train: 0.7911111 | Acc validation: 0.7866667 | Acc test: 0.5000000 \n",
      "Iter:    31 | Cost: 0.6943245 | Acc train: 0.8177778 | Acc validation: 0.8266667 | Acc test: 0.6500000 \n",
      "Iter:    32 | Cost: 0.6811745 | Acc train: 0.8266667 | Acc validation: 0.8533333 | Acc test: 0.5666667 \n",
      "Iter:    33 | Cost: 0.6872360 | Acc train: 0.8311111 | Acc validation: 0.8000000 | Acc test: 0.5166667 \n",
      "Iter:    34 | Cost: 0.6779587 | Acc train: 0.8355556 | Acc validation: 0.8266667 | Acc test: 0.5083333 \n",
      "Iter:    35 | Cost: 0.6632318 | Acc train: 0.8044444 | Acc validation: 0.8666667 | Acc test: 0.4750000 \n",
      "Iter:    36 | Cost: 0.6689844 | Acc train: 0.8000000 | Acc validation: 0.8533333 | Acc test: 0.5333333 \n",
      "Iter:    37 | Cost: 0.6725151 | Acc train: 0.8000000 | Acc validation: 0.8800000 | Acc test: 0.4666667 \n",
      "Iter:    38 | Cost: 0.6745836 | Acc train: 0.8088889 | Acc validation: 0.8133333 | Acc test: 0.4416667 \n",
      "Iter:    39 | Cost: 0.6607765 | Acc train: 0.7911111 | Acc validation: 0.8133333 | Acc test: 0.4666667 \n",
      "Iter:    40 | Cost: 0.6447434 | Acc train: 0.7911111 | Acc validation: 0.8133333 | Acc test: 0.5000000 \n",
      "Iter:    41 | Cost: 0.6380300 | Acc train: 0.8311111 | Acc validation: 0.8000000 | Acc test: 0.5166667 \n",
      "Iter:    42 | Cost: 0.6357019 | Acc train: 0.8000000 | Acc validation: 0.8133333 | Acc test: 0.5583333 \n",
      "Iter:    43 | Cost: 0.6512445 | Acc train: 0.7644444 | Acc validation: 0.7733333 | Acc test: 0.6250000 \n",
      "Iter:    44 | Cost: 0.6581286 | Acc train: 0.7511111 | Acc validation: 0.7733333 | Acc test: 0.6250000 \n",
      "Iter:    45 | Cost: 0.6379547 | Acc train: 0.7688889 | Acc validation: 0.7866667 | Acc test: 0.6166667 \n",
      "Iter:    46 | Cost: 0.6221213 | Acc train: 0.8222222 | Acc validation: 0.8133333 | Acc test: 0.6083333 \n",
      "Iter:    47 | Cost: 0.6095821 | Acc train: 0.8222222 | Acc validation: 0.8666667 | Acc test: 0.6166667 \n",
      "Iter:    48 | Cost: 0.6016607 | Acc train: 0.8222222 | Acc validation: 0.8533333 | Acc test: 0.6166667 \n",
      "Iter:    49 | Cost: 0.6022927 | Acc train: 0.8444444 | Acc validation: 0.8400000 | Acc test: 0.5666667 \n",
      "Iter:    50 | Cost: 0.5950758 | Acc train: 0.8311111 | Acc validation: 0.8533333 | Acc test: 0.5916667 \n",
      "Iter:    51 | Cost: 0.5922609 | Acc train: 0.8400000 | Acc validation: 0.8266667 | Acc test: 0.5833333 \n",
      "Iter:    52 | Cost: 0.5879452 | Acc train: 0.8400000 | Acc validation: 0.8266667 | Acc test: 0.5916667 \n",
      "Iter:    53 | Cost: 0.5835137 | Acc train: 0.8400000 | Acc validation: 0.8533333 | Acc test: 0.5916667 \n",
      "Iter:    54 | Cost: 0.5878754 | Acc train: 0.8488889 | Acc validation: 0.8400000 | Acc test: 0.5666667 \n",
      "Iter:    55 | Cost: 0.5854754 | Acc train: 0.8488889 | Acc validation: 0.8400000 | Acc test: 0.5916667 \n",
      "Iter:    56 | Cost: 0.5906463 | Acc train: 0.8488889 | Acc validation: 0.8266667 | Acc test: 0.5166667 \n",
      "\n",
      "\n",
      "time in sec. for 56 steps: 296.26513624191284\n",
      "\n",
      "bias:  -0.5377137827407145\n",
      "\n",
      "weights:\n",
      " [[[ 3.71503691e-02 -6.33673739e-01 -2.94639517e-01]\n",
      "  [-1.62430760e+00  8.21542511e-01 -7.01850431e-01]\n",
      "  [-1.41489714e+00  8.61921334e-01  4.88514947e-01]\n",
      "  [ 2.42096439e-01 -6.84659843e-01  3.12956414e-01]]\n",
      "\n",
      " [[ 9.36561314e-02  9.62857594e-03  9.20858824e-03]\n",
      "  [ 1.41040007e-01  3.65218708e-01 -6.51025593e-03]\n",
      "  [-6.37804978e-02  1.60018014e-01 -8.03409664e-03]\n",
      "  [-5.86678149e-03  3.88435768e-02  1.74791590e-04]]]\n"
     ]
    }
   ],
   "source": [
    "weights_init = 0.01 * np.random.randn(num_layers, num_qubits, 3, requires_grad=True)\n",
    "bias_init = np.array(0.0, requires_grad=True)\n",
    "\n",
    "# # start with learned step\n",
    "# w = np.load('/_jupyter/QC/QOSF-challenge-md-2022/task-02/temp-data/variational_classifier/data/mock_train_numpy_wights_01.npy', allow_pickle=True)\n",
    "# weights_init = np.array(w, requires_grad=True)\n",
    "# bias_init = np.array(-0.483902119474, requires_grad=True)\n",
    "\n",
    "\n",
    "# opt = NesterovMomentumOptimizer(0.02)\n",
    "opt = NesterovMomentumOptimizer(0.1)\n",
    "# opt = NesterovMomentumOptimizer(0.1)\n",
    "batch_size = 5\n",
    "batch_size = 15\n",
    "batch_size = 20\n",
    "batch_size = 10\n",
    "\n",
    "\n",
    "# train the variational classifier\n",
    "weights = weights_init\n",
    "bias = bias_init\n",
    "\n",
    "steps = 56\n",
    "\n",
    "toc = time.time()\n",
    "for it in range(steps):\n",
    "\n",
    "    # Update the weights by one optimizer step\n",
    "    batch_index = np.random.randint(0, num_train, (batch_size,))\n",
    "    feats_train_batch = feats_train[batch_index]\n",
    "    Y_train_batch = Y_train[batch_index]\n",
    "    weights, bias, _, _ = opt.step(cost, weights, bias, feats_train_batch, Y_train_batch)\n",
    "\n",
    "    # Compute predictions on train and validation set\n",
    "    predictions_train = [np.sign(variational_classifier(weights, bias, f)) for f in feats_train]\n",
    "    predictions_val = [np.sign(variational_classifier(weights, bias, f)) for f in feats_val]\n",
    "\n",
    "    # Compute accuracy on train and validation set\n",
    "    acc_train = accuracy(Y_train, predictions_train)\n",
    "    acc_val = accuracy(Y_val, predictions_val)\n",
    "    acc_test = test_accuracy(weights, bias)\n",
    "\n",
    "    print(\n",
    "        \"Iter: {:5d} | Cost: {:0.7f} | Acc train: {:0.7f} | Acc validation: {:0.7f} | Acc test: {:0.7f} \"\n",
    "        \"\".format(it + 1, cost(weights, bias, features, Y), acc_train, acc_val, acc_test)\n",
    "    )\n",
    "\n",
    "    if acc_train >= 0.93 and acc_val >= 0.93:\n",
    "        # early stop\n",
    "        break\n",
    "\n",
    "tic = time.time()\n",
    "\n",
    "print('\\n\\ntime in sec. for {} steps: {}'.format(it+1, tic-toc))\n",
    "print('\\nbias: ', bias)    \n",
    "print('\\nweights:\\n', weights)\n"
   ]
  },
  {
   "cell_type": "markdown",
   "id": "27f55127",
   "metadata": {},
   "source": [
    "## Final Result"
   ]
  },
  {
   "cell_type": "code",
   "execution_count": 13,
   "id": "b98d9a9f",
   "metadata": {},
   "outputs": [
    {
     "name": "stdout",
     "output_type": "stream",
     "text": [
      "Accuracy on test data: 0.5167\n"
     ]
    }
   ],
   "source": [
    "acc_test = test_accuracy(weights, bias)\n",
    "print('Accuracy on test data: {:0.4f}'.format(acc_test))"
   ]
  },
  {
   "cell_type": "markdown",
   "id": "228c660c",
   "metadata": {},
   "source": [
    "## Analyze Results"
   ]
  },
  {
   "cell_type": "code",
   "execution_count": null,
   "id": "d17a310c",
   "metadata": {},
   "outputs": [],
   "source": []
  }
 ],
 "metadata": {
  "kernelspec": {
   "display_name": "Python 3 (ipykernel)",
   "language": "python",
   "name": "python3"
  },
  "language_info": {
   "codemirror_mode": {
    "name": "ipython",
    "version": 3
   },
   "file_extension": ".py",
   "mimetype": "text/x-python",
   "name": "python",
   "nbconvert_exporter": "python",
   "pygments_lexer": "ipython3",
   "version": "3.9.7"
  },
  "widgets": {
   "application/vnd.jupyter.widget-state+json": {
    "state": {},
    "version_major": 2,
    "version_minor": 0
   }
  }
 },
 "nbformat": 4,
 "nbformat_minor": 5
}
