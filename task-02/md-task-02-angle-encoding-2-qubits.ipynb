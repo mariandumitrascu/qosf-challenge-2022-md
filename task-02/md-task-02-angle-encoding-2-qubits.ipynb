{
 "cells": [
  {
   "cell_type": "markdown",
   "id": "7ccfe335-e640-4b2c-b933-cba2bd38fab7",
   "metadata": {},
   "source": [
    "# Angle Encoding - 2 qubits - Custom Circuit\n"
   ]
  },
  {
   "cell_type": "code",
   "execution_count": 1,
   "id": "d2481de7-3eb0-4d54-ae30-a6b8b55637bb",
   "metadata": {},
   "outputs": [],
   "source": [
    "from IPython.core.interactiveshell import InteractiveShell\n",
    "InteractiveShell.ast_node_interactivity = \"all\"\n",
    "\n",
    "from ipywidgets import widgets\n",
    "from IPython.display import display, HTML"
   ]
  },
  {
   "cell_type": "code",
   "execution_count": 2,
   "id": "f3fb9ae3",
   "metadata": {},
   "outputs": [],
   "source": [
    "import pennylane as qml\n",
    "from pennylane import numpy as np\n",
    "from pennylane.optimize import NesterovMomentumOptimizer\n",
    "\n",
    "import sys\n",
    "from math import sqrt, pi\n",
    "import time\n",
    "\n",
    "import pandas as pd\n",
    "import scipy\n",
    "from sklearn import datasets\n",
    "from sklearn.model_selection import train_test_split\n",
    "from sklearn.preprocessing import StandardScaler\n",
    "from sklearn.preprocessing import Normalizer\n",
    "# supress a warning that is not useful here\n",
    "pd.options.mode.chained_assignment = None\n"
   ]
  },
  {
   "cell_type": "markdown",
   "id": "8941033f",
   "metadata": {},
   "source": [
    "## Data Loading and Exploration\n",
    "\n",
    "Second and third columns looks better as decimal logarithms. Also it seems they are highly corelated and eventually can be compressed to one feature. "
   ]
  },
  {
   "cell_type": "code",
   "execution_count": 3,
   "id": "a9388875",
   "metadata": {},
   "outputs": [
    {
     "name": "stdout",
     "output_type": "stream",
     "text": [
      "\n",
      "\n",
      "Train data standardised:\n",
      " [[ 2.78926e+03  3.00000e+00  1.00000e+00  2.00000e+01 -1.00000e+00]\n",
      " [ 4.04001e+03  6.00000e+00  0.00000e+00  1.00000e+00  1.00000e+00]\n",
      " [ 2.93120e+03  4.00000e+00  4.00000e+00  4.00000e+01  1.00000e+00]\n",
      " ...\n",
      " [ 4.18281e+03  0.00000e+00  0.00000e+00  6.50000e+01 -1.00000e+00]\n",
      " [ 3.11375e+03  4.00000e+00  2.00000e+00  1.00000e+00  1.00000e+00]\n",
      " [ 4.56757e+03  4.00000e+00  5.00000e+00  9.00000e+01  1.00000e+00]]\n"
     ]
    },
    {
     "data": {
      "text/plain": [
       "StandardScaler(with_mean=False)"
      ]
     },
     "execution_count": 3,
     "metadata": {},
     "output_type": "execute_result"
    },
    {
     "name": "stdout",
     "output_type": "stream",
     "text": [
      "\n",
      "\n",
      "First X sample (padded):\n",
      " [[1.97297308 1.25991244 0.50097227 0.72879296 0.3        0.        ]\n",
      " [2.85768662 2.51982488 0.         0.03643965 0.3        0.        ]\n",
      " [2.07337383 1.67988325 2.00388909 1.45758593 0.3        0.        ]\n",
      " [2.75620362 1.67988325 2.50486137 1.09318945 0.3        0.        ]\n",
      " [0.69465663 0.83994163 1.50291682 2.73297362 0.3        0.        ]]\n",
      "\n",
      "\n",
      "First X sample (normalized):\n",
      " [[0.78282016 0.49989778 0.19877169 0.28916452 0.11903155 0.        ]\n",
      " [0.74770596 0.65930536 0.         0.00953434 0.07849419 0.        ]\n",
      " [0.56744068 0.45975023 0.54842411 0.39891193 0.08210396 0.        ]\n",
      " [0.65003971 0.39619381 0.59076164 0.2578244  0.07075381 0.        ]\n",
      " [0.2093902  0.25318342 0.45302389 0.82379965 0.09042894 0.        ]]\n",
      "\n",
      "\n",
      "First features sample:\n",
      " [[ 0.72241941 -0.9685769   0.9685769  -0.56830923  0.56830923]\n",
      " [ 0.01912798 -1.57069144  1.57069144 -0.722652    0.722652  ]\n",
      " [ 1.49677071 -0.62886549  0.62886549 -0.68094     0.68094   ]\n",
      " [ 1.40516626 -0.41150958  0.41150958 -0.54736948  0.54736948]\n",
      " [ 2.46919067 -1.06801455  1.06801455 -0.87978981  0.87978981]]\n"
     ]
    }
   ],
   "source": [
    "## #################################################################################\n",
    "# globals\n",
    "\n",
    "path_train = '/_jupyter/QC/QOSF-challenge-md-2022/task-02/mock_train_set.csv'\n",
    "path_test = '/_jupyter/QC/QOSF-challenge-md-2022/task-02/mock_test_set.csv'\n",
    "\n",
    "num_qubits = 2\n",
    "num_layers = 4\n",
    "\n",
    "dev = qml.device(\"default.qubit\", wires=num_qubits)\n",
    "\n",
    "# #################################################################################\n",
    "# used to compute features\n",
    "def get_angles(x):\n",
    "\n",
    "    beta0 = 2 * np.arcsin(np.sqrt(x[1] ** 2) / np.sqrt(x[0] ** 2 + x[1] ** 2 + 1e-12))\n",
    "    beta1 = 2 * np.arcsin(np.sqrt(x[3] ** 2) / np.sqrt(x[2] ** 2 + x[3] ** 2 + 1e-12))\n",
    "    beta2 = 2 * np.arcsin(np.sqrt(x[2] ** 2 + x[3] ** 2)/np.sqrt(x[0] ** 2 + x[1] ** 2 + x[2] ** 2 + x[3] ** 2))\n",
    "\n",
    "    return np.array(\n",
    "            [\n",
    "                beta2, \n",
    "                -beta1/2, \n",
    "                beta1/2, \n",
    "                -beta0/2, \n",
    "                beta0/2\n",
    "            ])\n",
    "\n",
    "# ref. sklearn StandardScaler:\n",
    "# https://scikit-learn.org/stable/modules/generated/sklearn.preprocessing.StandardScaler.html\n",
    "\n",
    "df = pd.read_csv(path_train)\n",
    "df_c = df.copy(deep=True)\n",
    "df['1'] = np.log10(df_c['1'])\n",
    "df['2'] = np.log10(df_c['2'])\n",
    "\n",
    "f = lambda x: -1.0 if x==0 else 1.0\n",
    "df['4'] = df_c['4'].map(f)\n",
    "\n",
    "npdf = df.to_numpy()\n",
    "data = np.array(npdf)\n",
    "\n",
    "print(\"\\n\\nTrain data standardised:\\n\", data)\n",
    "\n",
    "X = data[:, 0:4]\n",
    "Y = data[:, -1]\n",
    "\n",
    "# scale the data using sklearn StandardScaler\n",
    "std_slc = StandardScaler(with_mean=False)\n",
    "std_slc.fit(X)\n",
    "X_std = std_slc.transform(X)\n",
    "\n",
    "# ###################################################################\n",
    "# padding\n",
    "# pad the vectors to size 2^2 with constant values\n",
    "padding = 0.3 * np.ones((len(X_std), 1))\n",
    "X_pad = np.c_[np.c_[X_std, padding], np.zeros((len(X_std), 1))]\n",
    "\n",
    "print(\"\\n\\nFirst X sample (padded):\\n\", X_pad[0:5])\n",
    "\n",
    "# normalize each input\n",
    "normalization = np.sqrt(np.sum(X_pad ** 2, -1))\n",
    "X_norm = (X_pad.T / normalization).T\n",
    "\n",
    "print(\"\\n\\nFirst X sample (normalized):\\n\", X_norm[0:5])\n",
    "\n",
    "# angles for state preparation are new features\n",
    "# we use get_angles to compute features\n",
    "features = np.array([get_angles(x) for x in X_norm], requires_grad=False)\n",
    "print(\"\\n\\nFirst features sample:\\n\", features[0:5])\n"
   ]
  },
  {
   "cell_type": "markdown",
   "id": "200e536c",
   "metadata": {},
   "source": [
    "## Data Encoding, Circuit Preparation and Cost Functions"
   ]
  },
  {
   "cell_type": "code",
   "execution_count": 4,
   "id": "c55af916",
   "metadata": {},
   "outputs": [],
   "source": [
    "\n",
    "# ###################################################################\n",
    "# layer circuit - this is where the circuit learns\n",
    "def layer(W):\n",
    "    qml.Rot(W[0, 0], W[0, 1], W[0, 2], wires=0)\n",
    "    qml.Rot(W[1, 0], W[1, 1], W[1, 2], wires=1)\n",
    "    qml.CNOT(wires=[0, 1])\n",
    "\n",
    "# ###################################################################\n",
    "# used to encode the state\n",
    "# in this case we're not using the out of box qml.AngleEmbedding\n",
    "def statepreparation(a):\n",
    "    \n",
    "    qml.RY(a[0], wires=0)\n",
    "    qml.CNOT(wires=[0, 1])\n",
    "\n",
    "    qml.RY(a[1], wires=1)\n",
    "    qml.CNOT(wires=[0, 1])\n",
    "\n",
    "    qml.RY(a[2], wires=1)\n",
    "    qml.PauliX(wires=0)\n",
    "    qml.CNOT(wires=[0, 1])\n",
    "\n",
    "    qml.RY(a[3], wires=1)\n",
    "    qml.CNOT(wires=[0, 1])\n",
    "    \n",
    "    qml.RY(a[4], wires=1)\n",
    "    qml.PauliX(wires=0)    \n",
    "\n",
    "# ###################################################################\n",
    "# the circuit - where the action happens\n",
    "@qml.qnode(dev)\n",
    "def circuit(weights, angles):\n",
    "    \n",
    "    statepreparation(angles)\n",
    "\n",
    "    for W in weights:\n",
    "        layer(W)\n",
    "\n",
    "    return qml.expval(qml.PauliZ(0))\n",
    "\n",
    "# ###############################################################################\n",
    "# variational classifier\n",
    "# this will be called on each optimization step by the cost evaluation\n",
    "def variational_classifier(weights, bias, angles):\n",
    "    return circuit(weights, angles) + bias\n",
    "\n",
    "# ###############################################################################\n",
    "# standard square loss\n",
    "def square_loss(labels, predictions):\n",
    "    loss = 0\n",
    "    for l, p in zip(labels, predictions):\n",
    "        loss = loss + (l - p) ** 2\n",
    "\n",
    "    loss = loss / len(labels)\n",
    "    return loss\n",
    "\n",
    "# ###############################################################################\n",
    "# goal: maximize accuracy\n",
    "def accuracy(labels, predictions):\n",
    "\n",
    "    loss = 0\n",
    "    for l, p in zip(labels, predictions):\n",
    "        if abs(l - p) < 1e-5:\n",
    "            loss = loss + 1\n",
    "    loss = loss / len(labels)\n",
    "\n",
    "    return loss\n",
    "\n",
    "# ###############################################################################\n",
    "# cost function - will be called during optimization process\n",
    "def cost(weights, bias, features, labels):\n",
    "    predictions = [variational_classifier(weights, bias, f) for f in features]\n",
    "    return square_loss(labels, predictions)\n",
    "\n"
   ]
  },
  {
   "cell_type": "markdown",
   "id": "bebfd169",
   "metadata": {},
   "source": [
    "## Data Exploration"
   ]
  },
  {
   "cell_type": "code",
   "execution_count": 5,
   "id": "bb3976f2",
   "metadata": {},
   "outputs": [
    {
     "data": {
      "text/plain": [
       "<Figure size 432x288 with 0 Axes>"
      ]
     },
     "execution_count": 5,
     "metadata": {},
     "output_type": "execute_result"
    },
    {
     "data": {
      "text/plain": [
       "<matplotlib.collections.PathCollection at 0xffff6987fe50>"
      ]
     },
     "execution_count": 5,
     "metadata": {},
     "output_type": "execute_result"
    },
    {
     "data": {
      "text/plain": [
       "<matplotlib.collections.PathCollection at 0xffff6987ff10>"
      ]
     },
     "execution_count": 5,
     "metadata": {},
     "output_type": "execute_result"
    },
    {
     "data": {
      "text/plain": [
       "Text(0.5, 1.0, 'Original data')"
      ]
     },
     "execution_count": 5,
     "metadata": {},
     "output_type": "execute_result"
    },
    {
     "data": {
      "image/png": "[encoded data removed]",
      "text/plain": [
       "<Figure size 432x288 with 1 Axes>"
      ]
     },
     "metadata": {
      "needs_background": "light"
     },
     "output_type": "display_data"
    },
    {
     "data": {
      "text/plain": [
       "<Figure size 432x288 with 0 Axes>"
      ]
     },
     "execution_count": 5,
     "metadata": {},
     "output_type": "execute_result"
    },
    {
     "data": {
      "text/plain": [
       "<matplotlib.collections.PathCollection at 0xffff67787af0>"
      ]
     },
     "execution_count": 5,
     "metadata": {},
     "output_type": "execute_result"
    },
    {
     "data": {
      "text/plain": [
       "<matplotlib.collections.PathCollection at 0xffffb0502550>"
      ]
     },
     "execution_count": 5,
     "metadata": {},
     "output_type": "execute_result"
    },
    {
     "data": {
      "text/plain": [
       "Text(0.5, 1.0, 'Padded and normalised data (dims 0 and 3)')"
      ]
     },
     "execution_count": 5,
     "metadata": {},
     "output_type": "execute_result"
    },
    {
     "data": {
      "image/png": "[encoded data removed]",
      "text/plain": [
       "<Figure size 432x288 with 1 Axes>"
      ]
     },
     "metadata": {
      "needs_background": "light"
     },
     "output_type": "display_data"
    },
    {
     "data": {
      "text/plain": [
       "<Figure size 432x288 with 0 Axes>"
      ]
     },
     "execution_count": 5,
     "metadata": {},
     "output_type": "execute_result"
    },
    {
     "data": {
      "text/plain": [
       "<matplotlib.collections.PathCollection at 0xffff676f8c70>"
      ]
     },
     "execution_count": 5,
     "metadata": {},
     "output_type": "execute_result"
    },
    {
     "data": {
      "text/plain": [
       "<matplotlib.collections.PathCollection at 0xffff676e8a60>"
      ]
     },
     "execution_count": 5,
     "metadata": {},
     "output_type": "execute_result"
    },
    {
     "data": {
      "text/plain": [
       "Text(0.5, 1.0, 'Feature vectors (dims 0 and 2)')"
      ]
     },
     "execution_count": 5,
     "metadata": {},
     "output_type": "execute_result"
    },
    {
     "data": {
      "image/png": "[encoded data removed]",
      "text/plain": [
       "<Figure size 432x288 with 1 Axes>"
      ]
     },
     "metadata": {
      "needs_background": "light"
     },
     "output_type": "display_data"
    }
   ],
   "source": [
    "import matplotlib.pyplot as plt\n",
    "\n",
    "plt.figure()\n",
    "plt.scatter(X[:, 0][Y == 1], X[:, 1][Y == 1], c=\"b\", marker=\"o\", edgecolors=\"k\")\n",
    "plt.scatter(X[:, 0][Y == -1], X[:, 1][Y == -1], c=\"r\", marker=\"o\", edgecolors=\"k\")\n",
    "plt.title(\"Original data\")\n",
    "plt.show()\n",
    "\n",
    "plt.figure()\n",
    "dim1 = 0\n",
    "dim2 = 3\n",
    "plt.scatter(\n",
    "    X_norm[:, dim1][Y == 1], X_norm[:, dim2][Y == 1], c=\"b\", marker=\"o\", edgecolors=\"k\"\n",
    ")\n",
    "plt.scatter(\n",
    "    X_norm[:, dim1][Y == -1], X_norm[:, dim2][Y == -1], c=\"r\", marker=\"o\", edgecolors=\"k\"\n",
    ")\n",
    "plt.title(\"Padded and normalised data (dims {} and {})\".format(dim1, dim2))\n",
    "plt.show()\n",
    "\n",
    "plt.figure()\n",
    "dim1 = 0\n",
    "dim2 = 2\n",
    "plt.scatter(\n",
    "    features[:, dim1][Y == 1], features[:, dim2][Y == 1], c=\"b\", marker=\"o\", edgecolors=\"k\"\n",
    ")\n",
    "plt.scatter(\n",
    "    features[:, dim1][Y == -1], features[:, dim2][Y == -1], c=\"r\", marker=\"o\", edgecolors=\"k\"\n",
    ")\n",
    "plt.title(\"Feature vectors (dims {} and {})\".format(dim1, dim2))\n",
    "plt.show()"
   ]
  },
  {
   "cell_type": "markdown",
   "id": "5095d442",
   "metadata": {},
   "source": [
    "## Datasets Preparation"
   ]
  },
  {
   "cell_type": "code",
   "execution_count": 6,
   "id": "a59fb6d4",
   "metadata": {},
   "outputs": [
    {
     "data": {
      "text/plain": [
       "StandardScaler(with_mean=False)"
      ]
     },
     "execution_count": 6,
     "metadata": {},
     "output_type": "execute_result"
    }
   ],
   "source": [
    "np.random.seed(0)\n",
    "num_data = len(Y)\n",
    "\n",
    "num_train = int(0.75 * num_data)\n",
    "index = np.random.permutation(range(num_data))\n",
    "feats_train = features[index[:num_train]]\n",
    "Y_train = Y[index[:num_train]]\n",
    "feats_val = features[index[num_train:]]\n",
    "Y_val = Y[index[num_train:]]\n",
    "\n",
    "# We need these later for plotting\n",
    "X_train = X[index[:num_train]]\n",
    "X_val = X[index[num_train:]]\n",
    "\n",
    "# ##################################################################\n",
    "# Load the test dataset and apply same transformations \n",
    "# as we did with the train dataset.\n",
    "df_test = pd.read_csv(path_test)\n",
    "df_test_c = df_test.copy(deep=True)\n",
    "\n",
    "df_test['1'] = np.log10(df_test_c['1'])\n",
    "df_test['2'] = np.log10(df_test_c['2'])\n",
    "\n",
    "f = lambda x: -1.0 if x==0 else 1.0\n",
    "df_test['4'] = df_test_c['4'].map(f)\n",
    "data_test = df_test.to_numpy()\n",
    "\n",
    "X_test_ini = data_test[:, 0:4]\n",
    "Y_test = data_test[:, -1]\n",
    "\n",
    "# scale data using sklearn StandardScaler\n",
    "std_slc = StandardScaler(with_mean=False)\n",
    "std_slc.fit(X_test_ini)\n",
    "X_test_std = std_slc.transform(X_test_ini)\n",
    "\n",
    "# ###################################################################\n",
    "# padding\n",
    "# pad the vectors to size 2^2 with constant values\n",
    "padding_test = 0.3 * np.ones((len(X_test_std), 1))\n",
    "X_test_pad = np.c_[np.c_[X_test_std, padding_test], np.zeros((len(X_test_std), 1))]\n",
    "\n",
    "# normalize each input\n",
    "normalization_t = np.sqrt(np.sum(X_test_pad ** 2, -1))\n",
    "X_test_norm = (X_test_pad.T / normalization_t).T\n",
    "\n",
    "# convert to a pennylane numpy array\n",
    "X_test_norm = np.array(X_test_norm, requires_grad=False)\n",
    "\n",
    "# we use get_angles to compute features\n",
    "features_test = np.array([get_angles(x) for x in X_test_norm], requires_grad=False)\n",
    "\n",
    "# #########################################################################\n",
    "# test accuracy function - we will not optimize against this dataset\n",
    "def test_accuracy(weights, bias):\n",
    "\n",
    "    # apply the variational clasifier circuit on test dataset\n",
    "    # using the learned weights\n",
    "    predictions_test = [np.sign(variational_classifier(weights, bias, f)) for f in features_test]\n",
    "\n",
    "    return accuracy(Y_test, predictions_test)\n"
   ]
  },
  {
   "cell_type": "markdown",
   "id": "7dfaeef4",
   "metadata": {},
   "source": [
    "## Training"
   ]
  },
  {
   "cell_type": "code",
   "execution_count": 7,
   "id": "544af8f8",
   "metadata": {},
   "outputs": [
    {
     "name": "stdout",
     "output_type": "stream",
     "text": [
      "Iter:     1 | Cost: 1.1970236 | Acc train: 0.5288889 | Acc validation: 0.5066667 | Acc test: 0.4333333 \n",
      "Iter:     2 | Cost: 1.1949626 | Acc train: 0.5288889 | Acc validation: 0.5066667 | Acc test: 0.4333333 \n",
      "Iter:     3 | Cost: 1.1951781 | Acc train: 0.5288889 | Acc validation: 0.4933333 | Acc test: 0.4250000 \n",
      "Iter:     4 | Cost: 1.1949685 | Acc train: 0.5200000 | Acc validation: 0.5333333 | Acc test: 0.4083333 \n",
      "Iter:     5 | Cost: 1.2056650 | Acc train: 0.5111111 | Acc validation: 0.4933333 | Acc test: 0.3916667 \n",
      "Iter:     6 | Cost: 1.2253643 | Acc train: 0.4888889 | Acc validation: 0.5066667 | Acc test: 0.3666667 \n",
      "Iter:     7 | Cost: 1.2349042 | Acc train: 0.4933333 | Acc validation: 0.5333333 | Acc test: 0.3250000 \n",
      "Iter:     8 | Cost: 1.2546894 | Acc train: 0.4977778 | Acc validation: 0.4933333 | Acc test: 0.3333333 \n",
      "Iter:     9 | Cost: 1.2799439 | Acc train: 0.4888889 | Acc validation: 0.4933333 | Acc test: 0.3500000 \n",
      "Iter:    10 | Cost: 1.3077183 | Acc train: 0.4933333 | Acc validation: 0.4933333 | Acc test: 0.3416667 \n",
      "Iter:    11 | Cost: 1.3059832 | Acc train: 0.4977778 | Acc validation: 0.4933333 | Acc test: 0.3416667 \n",
      "Iter:    12 | Cost: 1.2774934 | Acc train: 0.4933333 | Acc validation: 0.4933333 | Acc test: 0.3500000 \n",
      "Iter:    13 | Cost: 1.2362796 | Acc train: 0.4977778 | Acc validation: 0.4933333 | Acc test: 0.3416667 \n",
      "Iter:    14 | Cost: 1.2022035 | Acc train: 0.5022222 | Acc validation: 0.5333333 | Acc test: 0.3583333 \n",
      "Iter:    15 | Cost: 1.1625154 | Acc train: 0.5200000 | Acc validation: 0.5200000 | Acc test: 0.4083333 \n",
      "Iter:    16 | Cost: 1.1294738 | Acc train: 0.5466667 | Acc validation: 0.5600000 | Acc test: 0.4416667 \n",
      "Iter:    17 | Cost: 1.1067020 | Acc train: 0.5600000 | Acc validation: 0.5600000 | Acc test: 0.4416667 \n",
      "Iter:    18 | Cost: 1.0889685 | Acc train: 0.5733333 | Acc validation: 0.5600000 | Acc test: 0.4583333 \n",
      "Iter:    19 | Cost: 1.0718684 | Acc train: 0.5822222 | Acc validation: 0.5466667 | Acc test: 0.4833333 \n",
      "Iter:    20 | Cost: 1.0547179 | Acc train: 0.5866667 | Acc validation: 0.5733333 | Acc test: 0.5416667 \n",
      "Iter:    21 | Cost: 1.0406042 | Acc train: 0.6044444 | Acc validation: 0.5466667 | Acc test: 0.5833333 \n",
      "Iter:    22 | Cost: 1.0298427 | Acc train: 0.6222222 | Acc validation: 0.5200000 | Acc test: 0.5833333 \n",
      "Iter:    23 | Cost: 1.0181337 | Acc train: 0.6311111 | Acc validation: 0.5200000 | Acc test: 0.6083333 \n",
      "Iter:    24 | Cost: 1.0059509 | Acc train: 0.6355556 | Acc validation: 0.5200000 | Acc test: 0.6333333 \n",
      "Iter:    25 | Cost: 0.9900636 | Acc train: 0.6355556 | Acc validation: 0.5200000 | Acc test: 0.6500000 \n",
      "Iter:    26 | Cost: 0.9735137 | Acc train: 0.6355556 | Acc validation: 0.5200000 | Acc test: 0.6583333 \n",
      "Iter:    27 | Cost: 0.9537693 | Acc train: 0.6400000 | Acc validation: 0.5600000 | Acc test: 0.6666667 \n",
      "Iter:    28 | Cost: 0.9338278 | Acc train: 0.6444444 | Acc validation: 0.5866667 | Acc test: 0.6750000 \n",
      "Iter:    29 | Cost: 0.9091996 | Acc train: 0.6577778 | Acc validation: 0.5866667 | Acc test: 0.6833333 \n",
      "Iter:    30 | Cost: 0.8875159 | Acc train: 0.6666667 | Acc validation: 0.6133333 | Acc test: 0.6916667 \n",
      "Iter:    31 | Cost: 0.8611982 | Acc train: 0.6755556 | Acc validation: 0.6400000 | Acc test: 0.7083333 \n",
      "Iter:    32 | Cost: 0.8369767 | Acc train: 0.6800000 | Acc validation: 0.6533333 | Acc test: 0.7250000 \n",
      "Iter:    33 | Cost: 0.8168902 | Acc train: 0.6888889 | Acc validation: 0.6533333 | Acc test: 0.7416667 \n",
      "Iter:    34 | Cost: 0.7952378 | Acc train: 0.7200000 | Acc validation: 0.6933333 | Acc test: 0.7833333 \n",
      "Iter:    35 | Cost: 0.7703422 | Acc train: 0.7333333 | Acc validation: 0.7466667 | Acc test: 0.8166667 \n",
      "Iter:    36 | Cost: 0.7497121 | Acc train: 0.7511111 | Acc validation: 0.7600000 | Acc test: 0.8583333 \n",
      "Iter:    37 | Cost: 0.7347180 | Acc train: 0.7511111 | Acc validation: 0.7333333 | Acc test: 0.8916667 \n",
      "Iter:    38 | Cost: 0.7219457 | Acc train: 0.7511111 | Acc validation: 0.7333333 | Acc test: 0.9000000 \n",
      "Iter:    39 | Cost: 0.7109561 | Acc train: 0.7600000 | Acc validation: 0.7200000 | Acc test: 0.9000000 \n",
      "Iter:    40 | Cost: 0.7053396 | Acc train: 0.7688889 | Acc validation: 0.7466667 | Acc test: 0.9000000 \n",
      "Iter:    41 | Cost: 0.7016559 | Acc train: 0.7733333 | Acc validation: 0.7466667 | Acc test: 0.9083333 \n",
      "Iter:    42 | Cost: 0.6994753 | Acc train: 0.7777778 | Acc validation: 0.7333333 | Acc test: 0.9083333 \n",
      "Iter:    43 | Cost: 0.7002444 | Acc train: 0.7733333 | Acc validation: 0.7466667 | Acc test: 0.8916667 \n",
      "Iter:    44 | Cost: 0.6961881 | Acc train: 0.7644444 | Acc validation: 0.7600000 | Acc test: 0.8916667 \n",
      "Iter:    45 | Cost: 0.6902470 | Acc train: 0.7733333 | Acc validation: 0.7466667 | Acc test: 0.9000000 \n",
      "Iter:    46 | Cost: 0.6822977 | Acc train: 0.7733333 | Acc validation: 0.7600000 | Acc test: 0.9083333 \n",
      "Iter:    47 | Cost: 0.6751177 | Acc train: 0.7644444 | Acc validation: 0.7733333 | Acc test: 0.9083333 \n",
      "Iter:    48 | Cost: 0.6692436 | Acc train: 0.7644444 | Acc validation: 0.7733333 | Acc test: 0.9083333 \n",
      "Iter:    49 | Cost: 0.6592642 | Acc train: 0.7777778 | Acc validation: 0.7866667 | Acc test: 0.9250000 \n",
      "Iter:    50 | Cost: 0.6504539 | Acc train: 0.7911111 | Acc validation: 0.8000000 | Acc test: 0.9333333 \n",
      "Iter:    51 | Cost: 0.6429740 | Acc train: 0.8133333 | Acc validation: 0.8266667 | Acc test: 0.9250000 \n",
      "Iter:    52 | Cost: 0.6364706 | Acc train: 0.8044444 | Acc validation: 0.8266667 | Acc test: 0.9250000 \n",
      "Iter:    53 | Cost: 0.6300921 | Acc train: 0.8177778 | Acc validation: 0.8266667 | Acc test: 0.9416667 \n",
      "Iter:    54 | Cost: 0.6238142 | Acc train: 0.8133333 | Acc validation: 0.8400000 | Acc test: 0.9500000 \n",
      "Iter:    55 | Cost: 0.6190723 | Acc train: 0.8177778 | Acc validation: 0.8133333 | Acc test: 0.9500000 \n",
      "Iter:    56 | Cost: 0.6148317 | Acc train: 0.8133333 | Acc validation: 0.8133333 | Acc test: 0.9500000 \n",
      "Iter:    57 | Cost: 0.6120900 | Acc train: 0.8044444 | Acc validation: 0.8133333 | Acc test: 0.9500000 \n",
      "Iter:    58 | Cost: 0.6106645 | Acc train: 0.8044444 | Acc validation: 0.7866667 | Acc test: 0.9583333 \n",
      "Iter:    59 | Cost: 0.6104017 | Acc train: 0.8044444 | Acc validation: 0.7866667 | Acc test: 0.9583333 \n",
      "Iter:    60 | Cost: 0.6090918 | Acc train: 0.8088889 | Acc validation: 0.7866667 | Acc test: 0.9500000 \n",
      "Iter:    61 | Cost: 0.6089130 | Acc train: 0.8133333 | Acc validation: 0.7866667 | Acc test: 0.9416667 \n",
      "Iter:    62 | Cost: 0.6078197 | Acc train: 0.8133333 | Acc validation: 0.7733333 | Acc test: 0.9416667 \n",
      "Iter:    63 | Cost: 0.6060176 | Acc train: 0.8088889 | Acc validation: 0.7733333 | Acc test: 0.9416667 \n",
      "Iter:    64 | Cost: 0.6035080 | Acc train: 0.8088889 | Acc validation: 0.7733333 | Acc test: 0.9416667 \n",
      "Iter:    65 | Cost: 0.6003753 | Acc train: 0.8088889 | Acc validation: 0.7866667 | Acc test: 0.9583333 \n",
      "\n",
      "\n",
      "time in sec. for 65 steps: 225.19045042991638\n",
      "\n",
      "bias:  -0.5043449655029648\n",
      "\n",
      "weights:\n",
      " [[[ 6.73451165e-03 -6.57575270e-01 -1.01434619e-02]\n",
      "  [-3.12843683e-03  3.19473643e-01  1.94578081e-02]]\n",
      "\n",
      " [[ 1.08254327e-02  6.27248022e-02 -1.32110633e-02]\n",
      "  [ 1.21582113e-02 -6.67185682e-01 -9.51280882e-03]]\n",
      "\n",
      " [[ 1.09235898e-02 -8.32313127e-01  1.17465082e-02]\n",
      "  [ 3.81125390e-03  1.80054602e-01 -5.82154419e-03]]\n",
      "\n",
      " [[-7.80450842e-03 -7.68575969e-03 -8.03409664e-03]\n",
      "  [-6.89549778e-03 -4.55532504e-03  1.74791590e-04]]]\n"
     ]
    }
   ],
   "source": [
    "weights_init = 0.01 * np.random.randn(num_layers, num_qubits, 3, requires_grad=True)\n",
    "bias_init = np.array(0.0, requires_grad=True)\n",
    "\n",
    "opt = NesterovMomentumOptimizer(0.01)\n",
    "# opt = NesterovMomentumOptimizer(0.1)\n",
    "\n",
    "# batch_size = 5\n",
    "# batch_size = 15\n",
    "# batch_size = 20\n",
    "batch_size = 10\n",
    "\n",
    "# train the variational classifier\n",
    "weights = weights_init\n",
    "bias = bias_init\n",
    "\n",
    "steps = 65\n",
    "# steps = 5\n",
    "\n",
    "toc = time.time()\n",
    "for it in range(steps):\n",
    "\n",
    "    # Update the weights by one optimizer step\n",
    "    batch_index = np.random.randint(0, num_train, (batch_size,))\n",
    "    feats_train_batch = feats_train[batch_index]\n",
    "    Y_train_batch = Y_train[batch_index]\n",
    "    weights, bias, _, _ = opt.step(cost, weights, bias, feats_train_batch, Y_train_batch)\n",
    "\n",
    "    # Compute predictions on train and validation set\n",
    "    predictions_train = [np.sign(variational_classifier(weights, bias, f)) for f in feats_train]\n",
    "    predictions_val = [np.sign(variational_classifier(weights, bias, f)) for f in feats_val]\n",
    "\n",
    "    # Compute accuracy on train and validation set\n",
    "    acc_train = accuracy(Y_train, predictions_train)\n",
    "    acc_val = accuracy(Y_val, predictions_val)\n",
    "    acc_test = test_accuracy(weights, bias)\n",
    "\n",
    "    print(\n",
    "        \"Iter: {:5d} | Cost: {:0.7f} | Acc train: {:0.7f} | Acc validation: {:0.7f} | Acc test: {:0.7f} \"\n",
    "        \"\".format(it + 1, cost(weights, bias, features, Y), acc_train, acc_val, acc_test)\n",
    "    )\n",
    "\n",
    "    if acc_train >= 0.93 and acc_val >= 0.93:\n",
    "        # early stop\n",
    "        break\n",
    "\n",
    "tic = time.time()\n",
    "\n",
    "print('\\n\\ntime in sec. for {} steps: {}'.format(it+1, tic-toc))\n",
    "print('\\nbias: ', bias)    \n",
    "print('\\nweights:\\n', weights)\n"
   ]
  },
  {
   "cell_type": "markdown",
   "id": "bcca7dc7",
   "metadata": {},
   "source": [
    "## Final Result"
   ]
  },
  {
   "cell_type": "code",
   "execution_count": 8,
   "id": "f0de3ef8",
   "metadata": {},
   "outputs": [
    {
     "name": "stdout",
     "output_type": "stream",
     "text": [
      "Accuracy on test data: 0.9583\n"
     ]
    }
   ],
   "source": [
    "\n",
    "acc_test = test_accuracy(weights, bias)\n",
    "print('Accuracy on test data: {:0.4f}'.format(acc_test))"
   ]
  },
  {
   "cell_type": "markdown",
   "id": "528479e4",
   "metadata": {},
   "source": [
    "## Analyze Results"
   ]
  },
  {
   "cell_type": "code",
   "execution_count": 9,
   "id": "d5fad434",
   "metadata": {},
   "outputs": [
    {
     "data": {
      "text/plain": [
       "<Figure size 432x288 with 0 Axes>"
      ]
     },
     "execution_count": 9,
     "metadata": {},
     "output_type": "execute_result"
    },
    {
     "data": {
      "text/plain": [
       "<Figure size 432x288 with 0 Axes>"
      ]
     },
     "metadata": {},
     "output_type": "display_data"
    }
   ],
   "source": [
    "# We can plot the continuous output of the variational classifier for the first two dimensions of the Iris data set.\n",
    "plt.figure()\n",
    "cm = plt.cm.RdBu\n",
    "\n",
    "# make data for decision regions\n",
    "# xx, yy = np.meshgrid(np.linspace(0.0, 1.5, 20), np.linspace(0.0, 1.5, 20))\n",
    "xx, yy = np.meshgrid(np.linspace(0.0, 5000, 20), np.linspace(0.0, 10, 20))"
   ]
  },
  {
   "cell_type": "code",
   "execution_count": 10,
   "id": "8184851e",
   "metadata": {},
   "outputs": [
    {
     "name": "stderr",
     "output_type": "stream",
     "text": [
      "/tmp/ipykernel_82108/1061159923.py:19: UserWarning: No contour levels were found within the data range.\n",
      "  plt.contour(\n"
     ]
    },
    {
     "data": {
      "text/plain": [
       "<matplotlib.contour.QuadContourSet at 0xffff67555070>"
      ]
     },
     "execution_count": 10,
     "metadata": {},
     "output_type": "execute_result"
    },
    {
     "data": {
      "text/plain": [
       "<matplotlib.colorbar.Colorbar at 0xffff69873400>"
      ]
     },
     "execution_count": 10,
     "metadata": {},
     "output_type": "execute_result"
    },
    {
     "data": {
      "text/plain": [
       "<matplotlib.collections.PathCollection at 0xffff67778fd0>"
      ]
     },
     "execution_count": 10,
     "metadata": {},
     "output_type": "execute_result"
    },
    {
     "data": {
      "text/plain": [
       "<matplotlib.collections.PathCollection at 0xffff674b8fd0>"
      ]
     },
     "execution_count": 10,
     "metadata": {},
     "output_type": "execute_result"
    },
    {
     "data": {
      "text/plain": [
       "<matplotlib.legend.Legend at 0xffff69943a90>"
      ]
     },
     "execution_count": 10,
     "metadata": {},
     "output_type": "execute_result"
    },
    {
     "data": {
      "image/png": "[encoded data removed]",
      "text/plain": [
       "<Figure size 432x288 with 2 Axes>"
      ]
     },
     "metadata": {
      "needs_background": "light"
     },
     "output_type": "display_data"
    }
   ],
   "source": [
    "\n",
    "X_grid = [np.array([x, y]) for x, y in zip(xx.flatten(), yy.flatten())]\n",
    "\n",
    "# preprocess grid points like data inputs above\n",
    "padding = 0.3 * np.ones((len(X_grid), 1))\n",
    "X_grid = np.c_[np.c_[X_grid, padding], np.zeros((len(X_grid), 1))]  # pad each input\n",
    "normalization = np.sqrt(np.sum(X_grid ** 2, -1))\n",
    "X_grid = (X_grid.T / normalization).T  # normalize each input\n",
    "features_grid = np.array(\n",
    "    [get_angles(x) for x in X_grid]\n",
    ")  # angles for state preparation are new features\n",
    "predictions_grid = [variational_classifier(weights, bias, f) for f in features_grid]\n",
    "Z = np.reshape(predictions_grid, xx.shape)\n",
    "\n",
    "# plot decision regions\n",
    "cnt = plt.contourf(\n",
    "    xx, yy, Z, levels=np.arange(-1, 1.1, 0.1), cmap=cm, alpha=0.8, extend=\"both\"\n",
    "    # xx, yy, Z, levels=np.arange(-10, 10.1, 1.1), cmap=cm, alpha=0.8, extend=\"both\"\n",
    ")\n",
    "plt.contour(\n",
    "    xx, yy, Z, levels=[0.0], colors=(\"black\",), linestyles=(\"--\",), linewidths=(0.8,)\n",
    ")\n",
    "plt.colorbar(cnt, ticks=[-1, 0, 1])\n",
    "\n",
    "# plot data\n",
    "plt.scatter(\n",
    "    X_train[:, 0][Y_train == 1],\n",
    "    X_train[:, 1][Y_train == 1],\n",
    "    c=\"b\",\n",
    "    marker=\"o\",\n",
    "    edgecolors=\"k\",\n",
    "    label=\"class 1 train\",\n",
    ")\n",
    "plt.scatter(\n",
    "    X_val[:, 0][Y_val == 1],\n",
    "    X_val[:, 1][Y_val == 1],\n",
    "    c=\"b\",\n",
    "    marker=\"^\",\n",
    "    edgecolors=\"k\",\n",
    "    label=\"class 1 validation\",\n",
    ")\n",
    "# plt.scatter(\n",
    "#     X_train[:, 0][Y_train == -1],\n",
    "#     X_train[:, 1][Y_train == -1],\n",
    "#     c=\"r\",\n",
    "#     marker=\"o\",\n",
    "#     edgecolors=\"k\",\n",
    "#     label=\"class -1 train\",\n",
    "# )\n",
    "# plt.scatter(\n",
    "#     X_val[:, 0][Y_val == -1],\n",
    "#     X_val[:, 1][Y_val == -1],\n",
    "#     c=\"r\",\n",
    "#     marker=\"^\",\n",
    "#     edgecolors=\"k\",\n",
    "#     label=\"class -1 validation\",\n",
    "# )\n",
    "\n",
    "plt.legend()\n",
    "plt.show()"
   ]
  },
  {
   "cell_type": "code",
   "execution_count": null,
   "id": "6bf746b0",
   "metadata": {},
   "outputs": [],
   "source": []
  }
 ],
 "metadata": {
  "kernelspec": {
   "display_name": "Python 3 (ipykernel)",
   "language": "python",
   "name": "python3"
  },
  "language_info": {
   "codemirror_mode": {
    "name": "ipython",
    "version": 3
   },
   "file_extension": ".py",
   "mimetype": "text/x-python",
   "name": "python",
   "nbconvert_exporter": "python",
   "pygments_lexer": "ipython3",
   "version": "3.9.7"
  },
  "widgets": {
   "application/vnd.jupyter.widget-state+json": {
    "state": {},
    "version_major": 2,
    "version_minor": 0
   }
  }
 },
 "nbformat": 4,
 "nbformat_minor": 5
}
